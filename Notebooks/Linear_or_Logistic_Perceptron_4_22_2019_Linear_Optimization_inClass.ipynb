{
 "cells": [
  {
   "cell_type": "code",
   "execution_count": 3,
   "metadata": {},
   "outputs": [
    {
     "name": "stdout",
     "output_type": "stream",
     "text": [
      "\u001b[32m\u001b[1m  Updating\u001b[22m\u001b[39m registry at `~/.julia/registries/General`\n",
      "\u001b[32m\u001b[1m  Updating\u001b[22m\u001b[39m git-repo `https://github.com/JuliaRegistries/General.git`\n",
      "\u001b[2K\u001b[?25h[1mFetching:\u001b[22m\u001b[39m [========================================>]  100.0 %.0 %\u001b[32m\u001b[1m Resolving\u001b[22m\u001b[39m package versions...\n",
      "\u001b[32m\u001b[1m Installed\u001b[22m\u001b[39m LearnBase ────────── v0.2.2\n",
      "\u001b[32m\u001b[1m Installed\u001b[22m\u001b[39m OrderedCollections ─ v1.1.0\n",
      "\u001b[32m\u001b[1m Installed\u001b[22m\u001b[39m AbstractFFTs ─────── v0.4.0\n",
      "\u001b[32m\u001b[1m Installed\u001b[22m\u001b[39m MLLabelUtils ─────── v0.5.1\n",
      "\u001b[32m\u001b[1m Installed\u001b[22m\u001b[39m MLDataUtils ──────── v0.5.0\n",
      "\u001b[32m\u001b[1m Installed\u001b[22m\u001b[39m PlotUtils ────────── v0.5.8\n",
      "\u001b[32m\u001b[1m Installed\u001b[22m\u001b[39m MLDataPattern ────── v0.5.0\n",
      "\u001b[32m\u001b[1m Installed\u001b[22m\u001b[39m TranscodingStreams ─ v0.9.4\n",
      "\u001b[32m\u001b[1m Installed\u001b[22m\u001b[39m GR ───────────────── v0.39.1\n",
      "\u001b[32m\u001b[1m  Updating\u001b[22m\u001b[39m `~/.julia/environments/v1.0/Project.toml`\n",
      " \u001b[90m [cc2ba9b6]\u001b[39m\u001b[92m + MLDataUtils v0.5.0\u001b[39m\n",
      "\u001b[32m\u001b[1m  Updating\u001b[22m\u001b[39m `~/.julia/environments/v1.0/Manifest.toml`\n",
      " \u001b[90m [621f4979]\u001b[39m\u001b[93m ↑ AbstractFFTs v0.3.2 ⇒ v0.4.0\u001b[39m\n",
      " \u001b[90m [28b8d3ca]\u001b[39m\u001b[93m ↑ GR v0.39.0 ⇒ v0.39.1\u001b[39m\n",
      " \u001b[90m [7f8f8fb0]\u001b[39m\u001b[92m + LearnBase v0.2.2\u001b[39m\n",
      " \u001b[90m [9920b226]\u001b[39m\u001b[92m + MLDataPattern v0.5.0\u001b[39m\n",
      " \u001b[90m [cc2ba9b6]\u001b[39m\u001b[92m + MLDataUtils v0.5.0\u001b[39m\n",
      " \u001b[90m [66a33bbf]\u001b[39m\u001b[92m + MLLabelUtils v0.5.1\u001b[39m\n",
      " \u001b[90m [bac558e1]\u001b[39m\u001b[93m ↑ OrderedCollections v1.0.2 ⇒ v1.1.0\u001b[39m\n",
      " \u001b[90m [995b91a9]\u001b[39m\u001b[93m ↑ PlotUtils v0.5.7 ⇒ v0.5.8\u001b[39m\n",
      " \u001b[90m [3bb67fe8]\u001b[39m\u001b[93m ↑ TranscodingStreams v0.9.3 ⇒ v0.9.4\u001b[39m\n",
      "\u001b[32m\u001b[1m  Building\u001b[22m\u001b[39m GR → `~/.julia/packages/GR/KGODl/deps/build.log`\n"
     ]
    }
   ],
   "source": [
    "using Pkg;\n",
    "Pkg.add(\"MLDataUtils\")"
   ]
  },
  {
   "cell_type": "code",
   "execution_count": 5,
   "metadata": {},
   "outputs": [
    {
     "name": "stderr",
     "output_type": "stream",
     "text": [
      "┌ Info: Precompiling MLDataUtils [cc2ba9b6-d476-5e6d-8eaf-a92d5412d41d]\n",
      "└ @ Base loading.jl:1192\n"
     ]
    },
    {
     "data": {
      "text/plain": [
       "([5.1 4.9 … 5.1 5.7; 3.5 3.0 … 2.5 2.8; 1.4 1.4 … 3.0 4.1; 0.2 0.2 … 1.1 1.3], [\"setosa\", \"setosa\", \"setosa\", \"setosa\", \"setosa\", \"setosa\", \"setosa\", \"setosa\", \"setosa\", \"setosa\"  …  \"versicolor\", \"versicolor\", \"versicolor\", \"versicolor\", \"versicolor\", \"versicolor\", \"versicolor\", \"versicolor\", \"versicolor\", \"versicolor\"], [\"Sepal length\", \"Sepal width\", \"Petal length\", \"Petal width\"])"
      ]
     },
     "execution_count": 5,
     "metadata": {},
     "output_type": "execute_result"
    }
   ],
   "source": [
    "using MLDataUtils, LinearAlgebra\n",
    "X, Y, fnames = load_iris(100)"
   ]
  },
  {
   "cell_type": "code",
   "execution_count": null,
   "metadata": {},
   "outputs": [],
   "source": []
  },
  {
   "cell_type": "code",
   "execution_count": 6,
   "metadata": {},
   "outputs": [
    {
     "data": {
      "text/plain": [
       "4×100 Array{Float64,2}:\n",
       " 5.1  4.9  4.7  4.6  5.0  5.4  4.6  5.0  …  5.0  5.6  5.7  5.7  6.2  5.1  5.7\n",
       " 3.5  3.0  3.2  3.1  3.6  3.9  3.4  3.4     2.3  2.7  3.0  2.9  2.9  2.5  2.8\n",
       " 1.4  1.4  1.3  1.5  1.4  1.7  1.4  1.5     3.3  4.2  4.2  4.2  4.3  3.0  4.1\n",
       " 0.2  0.2  0.2  0.2  0.2  0.4  0.3  0.2     1.0  1.3  1.2  1.3  1.3  1.1  1.3"
      ]
     },
     "execution_count": 6,
     "metadata": {},
     "output_type": "execute_result"
    }
   ],
   "source": [
    "X #first 50 columns is setosa and the second 50 are versicolor"
   ]
  },
  {
   "cell_type": "code",
   "execution_count": 7,
   "metadata": {},
   "outputs": [
    {
     "data": {
      "text/plain": [
       "100-element Array{String,1}:\n",
       " \"setosa\"    \n",
       " \"setosa\"    \n",
       " \"setosa\"    \n",
       " \"setosa\"    \n",
       " \"setosa\"    \n",
       " \"setosa\"    \n",
       " \"setosa\"    \n",
       " \"setosa\"    \n",
       " \"setosa\"    \n",
       " \"setosa\"    \n",
       " \"setosa\"    \n",
       " \"setosa\"    \n",
       " \"setosa\"    \n",
       " ⋮           \n",
       " \"versicolor\"\n",
       " \"versicolor\"\n",
       " \"versicolor\"\n",
       " \"versicolor\"\n",
       " \"versicolor\"\n",
       " \"versicolor\"\n",
       " \"versicolor\"\n",
       " \"versicolor\"\n",
       " \"versicolor\"\n",
       " \"versicolor\"\n",
       " \"versicolor\"\n",
       " \"versicolor\""
      ]
     },
     "execution_count": 7,
     "metadata": {},
     "output_type": "execute_result"
    }
   ],
   "source": [
    "Y"
   ]
  },
  {
   "cell_type": "code",
   "execution_count": 8,
   "metadata": {},
   "outputs": [
    {
     "data": {
      "text/plain": [
       "4-element Array{String,1}:\n",
       " \"Sepal length\"\n",
       " \"Sepal width\" \n",
       " \"Petal length\"\n",
       " \"Petal width\" "
      ]
     },
     "execution_count": 8,
     "metadata": {},
     "output_type": "execute_result"
    }
   ],
   "source": [
    "fnames"
   ]
  },
  {
   "cell_type": "code",
   "execution_count": 9,
   "metadata": {},
   "outputs": [],
   "source": [
    "x_train = []\n",
    "y_train = []\n",
    "for i in 1:40\n",
    "    push!(x_train, X[1:2, i])\n",
    "    push!(x_train, X[1:2, 49 + i])\n",
    "    push!(y_train, 1.0)\n",
    "    push!(y_train, -1.0)\n",
    "end"
   ]
  },
  {
   "cell_type": "code",
   "execution_count": 10,
   "metadata": {},
   "outputs": [
    {
     "data": {
      "text/plain": [
       "linear_perceptron! (generic function with 1 method)"
      ]
     },
     "execution_count": 10,
     "metadata": {},
     "output_type": "execute_result"
    }
   ],
   "source": [
    "# random set of weights\n",
    "w = rand(3)\n",
    "\n",
    "function linear_perceptron!(x, y_hat, w, α)\n",
    "    new_x = copy(x)\n",
    "    push!(new_x, 1.0)\n",
    "    # we need w_k+1 = w_k - α_k(x1, x2...xN)\n",
    "    # which is the same as y = z   => z = w1*x1 + w2*x2 + w3   => w^T * x\n",
    "    y = w'*new_x\n",
    "    w -= α*(y - y_hat)*new_x\n",
    "end\n",
    "\n",
    "    "
   ]
  },
  {
   "cell_type": "code",
   "execution_count": 11,
   "metadata": {},
   "outputs": [],
   "source": [
    "# TEsting something\n",
    "\n",
    "# function linear_perceptron!(x, y_hat, w, α)\n",
    "#     new_x = copy(x)\n",
    "#     push!(new_x, 1.0)\n",
    "#     # we need w_k+1 = w_k - α_k(x1, x2...xN)\n",
    "#     # which is the same as y = z   => z = w1*x1 + w2*x2 + w3   => w^T * x\n",
    "#     y = w'*new_x\n",
    "#     w -= α*(y - y_hat)*new_x\n",
    "# end\n"
   ]
  },
  {
   "cell_type": "code",
   "execution_count": 12,
   "metadata": {},
   "outputs": [
    {
     "data": {
      "text/plain": [
       "2-element Array{Float64,1}:\n",
       " 5.1\n",
       " 3.5"
      ]
     },
     "execution_count": 12,
     "metadata": {},
     "output_type": "execute_result"
    }
   ],
   "source": [
    "# looking at x_train\n",
    "x_train[1]"
   ]
  },
  {
   "cell_type": "code",
   "execution_count": 13,
   "metadata": {},
   "outputs": [],
   "source": [
    "for _ in 1:100\n",
    "    for i in 1:80\n",
    "        linear_perceptron!(x_train[i], y_train[i], w, 0.45)\n",
    "    end\n",
    "end"
   ]
  },
  {
   "cell_type": "code",
   "execution_count": 14,
   "metadata": {},
   "outputs": [],
   "source": [
    "x_test = []\n",
    "y_test = []\n",
    "\n",
    "for i in 1:9\n",
    "    push!(x_test, X[1:2, 40+i])\n",
    "    push!(x_test, X[1:2, 90 + i])\n",
    "    push!(y_test, 1.0)\n",
    "    push!(y_test, -1.0)\n",
    "end"
   ]
  },
  {
   "cell_type": "code",
   "execution_count": 15,
   "metadata": {},
   "outputs": [
    {
     "data": {
      "text/plain": [
       "predict (generic function with 1 method)"
      ]
     },
     "execution_count": 15,
     "metadata": {},
     "output_type": "execute_result"
    }
   ],
   "source": [
    "function predict(x, w)\n",
    "    x_new = copy(x)\n",
    "    push!(x_new, 1.0)\n",
    "    return( w'*x_new)\n",
    "end"
   ]
  },
  {
   "cell_type": "code",
   "execution_count": 16,
   "metadata": {},
   "outputs": [
    {
     "data": {
      "text/plain": [
       "3-element Array{Float64,1}:\n",
       " 0.3148009224966599\n",
       " 0.8784838892379365\n",
       " 0.2320955685777386"
      ]
     },
     "execution_count": 16,
     "metadata": {},
     "output_type": "execute_result"
    }
   ],
   "source": [
    "w"
   ]
  },
  {
   "cell_type": "code",
   "execution_count": 17,
   "metadata": {},
   "outputs": [
    {
     "data": {
      "text/plain": [
       "4.880793793393816"
      ]
     },
     "execution_count": 17,
     "metadata": {},
     "output_type": "execute_result"
    }
   ],
   "source": [
    "predict(x_test[1], w)"
   ]
  },
  {
   "cell_type": "code",
   "execution_count": 18,
   "metadata": {},
   "outputs": [],
   "source": [
    "for _ in 1:1000\n",
    "    for i in 1:80\n",
    "        linear_perceptron!(x_train[i], y_train[i], w, 0.45)\n",
    "    end\n",
    "end\n"
   ]
  },
  {
   "cell_type": "code",
   "execution_count": 19,
   "metadata": {},
   "outputs": [
    {
     "data": {
      "text/plain": [
       "4.341999031077002"
      ]
     },
     "execution_count": 19,
     "metadata": {},
     "output_type": "execute_result"
    }
   ],
   "source": [
    "predict(x_test[6], w)"
   ]
  },
  {
   "cell_type": "code",
   "execution_count": 20,
   "metadata": {},
   "outputs": [
    {
     "data": {
      "text/plain": [
       "logistic_perceptron! (generic function with 1 method)"
      ]
     },
     "execution_count": 20,
     "metadata": {},
     "output_type": "execute_result"
    }
   ],
   "source": [
    "function σ(s)\n",
    "    return 1/(1+exp(-s))\n",
    "end\n",
    "\n",
    "function logistic_perceptron!(x, y_hat, w, α)\n",
    "    new_x = copy(x)\n",
    "    push!(new_x, 1.0)\n",
    "    z = w'*new_x\n",
    "    y = σ(z)\n",
    "    \n",
    "    w -= α*(y - y_hat)*σ(z)*(1 - σ(z)) * new_x\n",
    "    return w\n",
    "end\n"
   ]
  },
  {
   "cell_type": "code",
   "execution_count": 21,
   "metadata": {},
   "outputs": [],
   "source": [
    "for _ in 1:10000\n",
    "    for i in 1:80\n",
    "        w = logistic_perceptron!(x_train[i], y_train[i], w, 0.45)\n",
    "    end\n",
    "end"
   ]
  },
  {
   "cell_type": "code",
   "execution_count": 22,
   "metadata": {},
   "outputs": [
    {
     "data": {
      "text/plain": [
       "1.9457947275532816e-9"
      ]
     },
     "execution_count": 22,
     "metadata": {},
     "output_type": "execute_result"
    }
   ],
   "source": [
    "σ(predict(x_test[2], w))"
   ]
  },
  {
   "cell_type": "code",
   "execution_count": null,
   "metadata": {},
   "outputs": [],
   "source": []
  }
 ],
 "metadata": {
  "kernelspec": {
   "display_name": "Julia 1.0.3",
   "language": "julia",
   "name": "julia-1.0"
  },
  "language_info": {
   "file_extension": ".jl",
   "mimetype": "application/julia",
   "name": "julia",
   "version": "1.0.3"
  }
 },
 "nbformat": 4,
 "nbformat_minor": 2
}
