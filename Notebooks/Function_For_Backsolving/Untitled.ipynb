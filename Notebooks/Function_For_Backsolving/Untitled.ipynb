{
 "cells": [
  {
   "cell_type": "code",
   "execution_count": 1,
   "metadata": {},
   "outputs": [
    {
     "data": {
      "text/plain": [
       "GEPP (generic function with 1 method)"
      ]
     },
     "execution_count": 1,
     "metadata": {},
     "output_type": "execute_result"
    }
   ],
   "source": [
    "using LinearAlgebra\n",
    "\n",
    "function GEPP(A)\n",
    "    U = copy(A)\n",
    "    m = size(A)[1]\n",
    "    L = Matrix{Float64}(I, m, m)\n",
    "\n",
    "    for k = 1 : m - 1\n",
    "        for j = k + 1 : m\n",
    "            L[j,k] = U[j,k] / U[k,k]\n",
    "            U[j,k:m] = U[j,k:m] - L[j,k] * U[k, k:m]\n",
    "        end\n",
    "    end\n",
    "    return L, U\n",
    "end"
   ]
  },
  {
   "cell_type": "code",
   "execution_count": 2,
   "metadata": {},
   "outputs": [
    {
     "data": {
      "text/plain": [
       "4×4 Array{Float64,2}:\n",
       " 0.359309  0.0900263  0.27033    0.692843\n",
       " 0.849537  0.924497   0.036688   0.352956\n",
       " 0.189812  0.47958    0.434799   0.46674 \n",
       " 0.728098  0.37723    0.0723693  0.836381"
      ]
     },
     "execution_count": 2,
     "metadata": {},
     "output_type": "execute_result"
    }
   ],
   "source": [
    "A = rand(4, 4)"
   ]
  },
  {
   "cell_type": "code",
   "execution_count": 3,
   "metadata": {},
   "outputs": [
    {
     "data": {
      "text/plain": [
       "([1.0 0.0 0.0 0.0; 2.36436 1.0 0.0 0.0; 0.528269 0.607078 1.0 0.0; 2.02638 0.273736 -0.472079 1.0], [0.359309 0.0900263 0.27033 0.692843; 1.11022e-16 0.711642 -0.602471 -1.28518; 0.0 0.0 0.657739 0.880935; 1.11022e-16 0.0 0.0 0.200087])"
      ]
     },
     "execution_count": 3,
     "metadata": {},
     "output_type": "execute_result"
    }
   ],
   "source": [
    "GEPP(A)"
   ]
  },
  {
   "cell_type": "code",
   "execution_count": null,
   "metadata": {},
   "outputs": [],
   "source": []
  }
 ],
 "metadata": {
  "kernelspec": {
   "display_name": "Julia 1.1.0",
   "language": "julia",
   "name": "julia-1.1"
  },
  "language_info": {
   "file_extension": ".jl",
   "mimetype": "application/julia",
   "name": "julia",
   "version": "1.1.0"
  }
 },
 "nbformat": 4,
 "nbformat_minor": 2
}
