{
 "cells": [
  {
   "cell_type": "code",
   "execution_count": 1,
   "metadata": {},
   "outputs": [],
   "source": [
    "using LinearAlgebra"
   ]
  },
  {
   "cell_type": "code",
   "execution_count": 3,
   "metadata": {},
   "outputs": [
    {
     "data": {
      "text/plain": [
       "4×4 Array{Float64,2}:\n",
       " 0.113926   0.314578  0.577067  0.348427 \n",
       " 0.503839   0.355221  0.551054  0.0415172\n",
       " 0.0797193  0.834561  0.563753  0.725458 \n",
       " 0.0294199  0.958241  0.586597  0.311062 "
      ]
     },
     "execution_count": 3,
     "metadata": {},
     "output_type": "execute_result"
    }
   ],
   "source": [
    "A = rand(4,4)"
   ]
  },
  {
   "cell_type": "code",
   "execution_count": 4,
   "metadata": {},
   "outputs": [
    {
     "data": {
      "text/plain": [
       "-3.226721866369226"
      ]
     },
     "execution_count": 4,
     "metadata": {},
     "output_type": "execute_result"
    }
   ],
   "source": [
    "ℓ = -A[2, 1] / A[1, 1]"
   ]
  },
  {
   "cell_type": "code",
   "execution_count": 16,
   "metadata": {},
   "outputs": [
    {
     "data": {
      "text/plain": [
       "4×4 Array{Float64,2}:\n",
       " 1.0  0.0  0.0  0.0\n",
       " 0.0  1.0  0.0  0.0\n",
       " 0.0  0.0  1.0  0.0\n",
       " 0.0  0.0  0.0  1.0"
      ]
     },
     "execution_count": 16,
     "metadata": {},
     "output_type": "execute_result"
    }
   ],
   "source": [
    "# To make an identity matrix\n",
    "\n",
    "E_21 = Matrix{Float64}(I, 4, 4)"
   ]
  },
  {
   "cell_type": "code",
   "execution_count": 13,
   "metadata": {},
   "outputs": [
    {
     "data": {
      "text/plain": [
       "-3.226721866369226"
      ]
     },
     "execution_count": 13,
     "metadata": {},
     "output_type": "execute_result"
    }
   ],
   "source": [
    "E_21[2, 1] = ℓ"
   ]
  },
  {
   "cell_type": "code",
   "execution_count": 14,
   "metadata": {},
   "outputs": [
    {
     "data": {
      "text/plain": [
       "4×4 Array{Float64,2}:\n",
       "  1.0      0.0  0.0  0.0\n",
       " -3.22672  1.0  0.0  0.0\n",
       "  0.0      0.0  1.0  0.0\n",
       "  0.0      0.0  0.0  1.0"
      ]
     },
     "execution_count": 14,
     "metadata": {},
     "output_type": "execute_result"
    }
   ],
   "source": [
    "E_21"
   ]
  },
  {
   "cell_type": "code",
   "execution_count": 15,
   "metadata": {},
   "outputs": [
    {
     "data": {
      "text/plain": [
       "4×4 Array{Float64,2}:\n",
       " 0.302411   0.90948    0.365095   0.290198\n",
       " 0.0       -2.07988   -0.391539  -0.425093\n",
       " 0.318987   0.332135   0.499206   0.441944\n",
       " 0.441313   0.524619   0.182434   0.880558"
      ]
     },
     "execution_count": 15,
     "metadata": {},
     "output_type": "execute_result"
    }
   ],
   "source": [
    "E_21 * A"
   ]
  },
  {
   "cell_type": "code",
   "execution_count": 21,
   "metadata": {},
   "outputs": [
    {
     "data": {
      "text/plain": [
       "4×4 Array{Float64,2}:\n",
       " 0.302411   0.90948    0.365095   0.290198\n",
       " 0.0       -2.07988   -0.391539  -0.425093\n",
       " 0.0       -0.627197   0.114099   0.135839\n",
       " 0.0       -0.802599  -0.350355   0.457067"
      ]
     },
     "execution_count": 21,
     "metadata": {},
     "output_type": "execute_result"
    }
   ],
   "source": [
    "ℓ_21 = -A[2, 1] / A[1, 1]\n",
    "E_21 = Matrix{Float64}(I, 4, 4)\n",
    "E_21[2, 1] = ℓ_21\n",
    "\n",
    "ℓ_31 = -A[3, 1] / A[1, 1]\n",
    "E_31 = Matrix{Float64}(I, 4, 4)\n",
    "E_31[3, 1] = ℓ_31\n",
    "\n",
    "ℓ_41 = -A[4, 1] / A[1, 1]\n",
    "E_41 = Matrix{Float64}(I, 4, 4)\n",
    "E_41[4, 1] = ℓ_41\n",
    "\n",
    "E_41 * E_31 * E_21 * A"
   ]
  },
  {
   "cell_type": "code",
   "execution_count": 39,
   "metadata": {},
   "outputs": [
    {
     "data": {
      "text/plain": [
       "zero_column (generic function with 1 method)"
      ]
     },
     "execution_count": 39,
     "metadata": {},
     "output_type": "execute_result"
    }
   ],
   "source": [
    "function zero_column(j, A)\n",
    "    \n",
    "    U = A\n",
    "    n = size(A)[1]\n",
    "    \n",
    "    for i = j + 1 : n\n",
    "        ℓ_ij = -A[i, j] / A[j, j]\n",
    "        E_ij = Matrix{Float64}(I, n, n)\n",
    "        E_ij[i, j] = ℓ_ij\n",
    "        \n",
    "        U = E_ij * U\n",
    "        \n",
    "    end\n",
    "    \n",
    "    return U\n",
    "    \n",
    "end"
   ]
  },
  {
   "cell_type": "code",
   "execution_count": 40,
   "metadata": {},
   "outputs": [
    {
     "data": {
      "text/plain": [
       "4×4 Array{Float64,2}:\n",
       " 0.302411   0.90948    0.365095   0.290198\n",
       " 0.0       -2.07988   -0.391539  -0.425093\n",
       " 0.0       -0.627197   0.114099   0.135839\n",
       " 0.0       -0.802599  -0.350355   0.457067"
      ]
     },
     "execution_count": 40,
     "metadata": {},
     "output_type": "execute_result"
    }
   ],
   "source": [
    "U = zero_column(1, A)"
   ]
  },
  {
   "cell_type": "code",
   "execution_count": 41,
   "metadata": {},
   "outputs": [
    {
     "data": {
      "text/plain": [
       "4×4 Array{Float64,2}:\n",
       " 0.302411   0.90948   0.365095   0.290198\n",
       " 0.0       -2.07988  -0.391539  -0.425093\n",
       " 0.0        0.0       0.232169   0.264028\n",
       " 0.0        0.0      -0.199265   0.621105"
      ]
     },
     "execution_count": 41,
     "metadata": {},
     "output_type": "execute_result"
    }
   ],
   "source": [
    "U = zero_column(2, U)"
   ]
  },
  {
   "cell_type": "code",
   "execution_count": 42,
   "metadata": {},
   "outputs": [
    {
     "data": {
      "text/plain": [
       "4×4 Array{Float64,2}:\n",
       " 0.302411   0.90948   0.365095   0.290198\n",
       " 0.0       -2.07988  -0.391539  -0.425093\n",
       " 0.0        0.0       0.232169   0.264028\n",
       " 0.0        0.0      -0.199265   0.621105"
      ]
     },
     "execution_count": 42,
     "metadata": {},
     "output_type": "execute_result"
    }
   ],
   "source": [
    "U = zero_column(4, U)"
   ]
  },
  {
   "cell_type": "code",
   "execution_count": 46,
   "metadata": {},
   "outputs": [
    {
     "data": {
      "text/plain": [
       "upper_form (generic function with 1 method)"
      ]
     },
     "execution_count": 46,
     "metadata": {},
     "output_type": "execute_result"
    }
   ],
   "source": [
    "function upper_form(A)\n",
    "    \n",
    "    n = size(A)[1]\n",
    "    U = A\n",
    "    for i = 1 : n - 1\n",
    "        U = zero_column(i, U)\n",
    "    end\n",
    "    return U\n",
    "end"
   ]
  },
  {
   "cell_type": "code",
   "execution_count": 47,
   "metadata": {
    "scrolled": true
   },
   "outputs": [
    {
     "data": {
      "text/plain": [
       "4×4 Array{Float64,2}:\n",
       " 0.302411   0.90948   0.365095   0.290198\n",
       " 0.0       -2.07988  -0.391539  -0.425093\n",
       " 0.0        0.0       0.232169   0.264028\n",
       " 0.0        0.0       0.0        0.847714"
      ]
     },
     "execution_count": 47,
     "metadata": {},
     "output_type": "execute_result"
    }
   ],
   "source": [
    "upper_form(A)"
   ]
  },
  {
   "cell_type": "code",
   "execution_count": 48,
   "metadata": {},
   "outputs": [
    {
     "data": {
      "text/plain": [
       "10×10 Array{Float64,2}:\n",
       " 0.98643   0.00439921    0.833285   0.0800336  …   0.317149   0.738921  \n",
       " 0.0       0.766397     -0.499109   0.918021       0.084126   0.291835  \n",
       " 0.0       0.0           0.955577  -0.761684      -0.107061   0.141727  \n",
       " 0.0       1.11022e-16   0.0       -0.029368       0.188798  -0.279321  \n",
       " 0.0       1.70134e-15   0.0        0.0            3.66204   -4.14534   \n",
       " 0.0      -2.52829e-16   0.0        0.0        …  -0.829576   0.00787532\n",
       " 0.0      -6.74516e-16   0.0        0.0           -0.646944  -0.583514  \n",
       " 0.0       1.29309e-16   0.0        0.0            0.163936  -0.132728  \n",
       " 0.0      -2.98796e-17   0.0        0.0           -0.214203   0.40566   \n",
       " 0.0      -2.25227e-16   0.0        0.0            0.0        3.14347   "
      ]
     },
     "execution_count": 48,
     "metadata": {},
     "output_type": "execute_result"
    }
   ],
   "source": [
    "C = rand(10, 10)\n",
    "upper_form(C)"
   ]
  },
  {
   "cell_type": "code",
   "execution_count": 1,
   "metadata": {},
   "outputs": [
    {
     "data": {
      "text/plain": [
       "upper_form (generic function with 1 method)"
      ]
     },
     "execution_count": 1,
     "metadata": {},
     "output_type": "execute_result"
    }
   ],
   "source": [
    "function zero_column(j, A)\n",
    "    \n",
    "    U = A\n",
    "    n = size(A)[1]\n",
    "    \n",
    "    for i = j + 1 : n\n",
    "        ℓ_ij = -A[i, j] / A[j, j]\n",
    "        E_ij = Matrix{Float64}(I, n, n)\n",
    "        E_ij[i, j] = ℓ_ij\n",
    "        \n",
    "        U = E_ij * U\n",
    "        \n",
    "    end\n",
    "    \n",
    "    return U\n",
    "    \n",
    "end\n",
    "\n",
    "function upper_form(A)\n",
    "    \n",
    "    n = size(A)[1]\n",
    "    U = A\n",
    "    for i = 1 : n - 1\n",
    "        U = zero_column(i, U)\n",
    "    end\n",
    "    return U\n",
    "end\n"
   ]
  },
  {
   "cell_type": "code",
   "execution_count": 68,
   "metadata": {},
   "outputs": [
    {
     "data": {
      "text/plain": [
       "4-element Array{Float64,1}:\n",
       " 1.0\n",
       " 2.0\n",
       " 3.0\n",
       " 4.0"
      ]
     },
     "execution_count": 68,
     "metadata": {},
     "output_type": "execute_result"
    }
   ],
   "source": [
    "# Practicing the Ux=b function\n",
    "# first U and b\n",
    "\n",
    "U = [2.0 3 4 5; 0 3 10 1; 0 0 4 5; 0 0 0 8]\n",
    "b = [1.0, 2, 3, 4]"
   ]
  },
  {
   "cell_type": "code",
   "execution_count": 5,
   "metadata": {},
   "outputs": [
    {
     "data": {
      "text/plain": [
       "4"
      ]
     },
     "execution_count": 5,
     "metadata": {},
     "output_type": "execute_result"
    }
   ],
   "source": [
    "# just checking to see what this function does\n",
    "\n",
    "n = size(A)[1]\n",
    "n"
   ]
  },
  {
   "cell_type": "code",
   "execution_count": 69,
   "metadata": {},
   "outputs": [
    {
     "data": {
      "text/plain": [
       "4-element Array{Float64,1}:\n",
       " -1.125              \n",
       "  0.08333333333333333\n",
       "  0.125              \n",
       "  0.5                "
      ]
     },
     "execution_count": 69,
     "metadata": {},
     "output_type": "execute_result"
    }
   ],
   "source": [
    "# this is what the answer should be \n",
    "\n",
    "U \\ b"
   ]
  },
  {
   "cell_type": "code",
   "execution_count": 64,
   "metadata": {},
   "outputs": [
    {
     "data": {
      "text/plain": [
       "back_solve (generic function with 1 method)"
      ]
     },
     "execution_count": 64,
     "metadata": {},
     "output_type": "execute_result"
    }
   ],
   "source": [
    "# defining our own function\n",
    "# THERE ARE ERRORS, WILL FIX LATER\n",
    "\n",
    "# know that \"zeros(4)\" creates an element array of 4 zeros \n",
    "\n",
    "function back_solve(U, b)\n",
    "    \n",
    "    n = size(U)[1]\n",
    "    x = zeros(n)\n",
    "    \n",
    "    x[n] = b[n] / U[n, n]\n",
    "    \n",
    "    for k = n-1 : -1 : 1\n",
    "        x[k] = (b[k] - sum(U[k, :] * x)) / U[k, k]\n",
    "    end\n",
    "    \n",
    "    return x\n",
    "end\n",
    "    \n",
    "    "
   ]
  },
  {
   "cell_type": "code",
   "execution_count": 66,
   "metadata": {},
   "outputs": [
    {
     "ename": "MethodError",
     "evalue": "MethodError: no method matching *(::Array{Float64,1}, ::Array{Float64,1})\nClosest candidates are:\n  *(::Any, ::Any, !Matched::Any, !Matched::Any...) at operators.jl:502\n  *(!Matched::Adjoint{#s623,#s622} where #s622<:Union{DenseArray{T<:Union{Complex{Float32}, Complex{Float64}, Float32, Float64},2}, ReinterpretArray{T<:Union{Complex{Float32}, Complex{Float64}, Float32, Float64},2,S,A} where S where A<:Union{SubArray{T,N,A,I,true} where I<:Union{Tuple{Vararg{Real,N} where N}, Tuple{AbstractUnitRange,Vararg{Any,N} where N}} where A<:DenseArray where N where T, DenseArray}, ReshapedArray{T<:Union{Complex{Float32}, Complex{Float64}, Float32, Float64},2,A,MI} where MI<:Tuple{Vararg{SignedMultiplicativeInverse{Int64},N} where N} where A<:Union{ReinterpretArray{T,N,S,A} where S where A<:Union{SubArray{T,N,A,I,true} where I<:Union{Tuple{Vararg{Real,N} where N}, Tuple{AbstractUnitRange,Vararg{Any,N} where N}} where A<:DenseArray where N where T, DenseArray} where N where T, SubArray{T,N,A,I,true} where I<:Union{Tuple{Vararg{Real,N} where N}, Tuple{AbstractUnitRange,Vararg{Any,N} where N}} where A<:DenseArray where N where T, DenseArray}, SubArray{T<:Union{Complex{Float32}, Complex{Float64}, Float32, Float64},2,A,I,L} where L where I<:Tuple{Vararg{Union{Int64, AbstractRange{Int64}, AbstractCartesianIndex},N} where N} where A<:Union{ReinterpretArray{T,N,S,A} where S where A<:Union{SubArray{T,N,A,I,true} where I<:Union{Tuple{Vararg{Real,N} where N}, Tuple{AbstractUnitRange,Vararg{Any,N} where N}} where A<:DenseArray where N where T, DenseArray} where N where T, ReshapedArray{T,N,A,MI} where MI<:Tuple{Vararg{SignedMultiplicativeInverse{Int64},N} where N} where A<:Union{ReinterpretArray{T,N,S,A} where S where A<:Union{SubArray{T,N,A,I,true} where I<:Union{Tuple{Vararg{Real,N} where N}, Tuple{AbstractUnitRange,Vararg{Any,N} where N}} where A<:DenseArray where N where T, DenseArray} where N where T, SubArray{T,N,A,I,true} where I<:Union{Tuple{Vararg{Real,N} where N}, Tuple{AbstractUnitRange,Vararg{Any,N} where N}} where A<:DenseArray where N where T, DenseArray} where N where T, DenseArray}} where #s623, ::Union{DenseArray{S,1}, ReinterpretArray{S,1,S,A} where S where A<:Union{SubArray{T,N,A,I,true} where I<:Union{Tuple{Vararg{Real,N} where N}, Tuple{AbstractUnitRange,Vararg{Any,N} where N}} where A<:DenseArray where N where T, DenseArray}, ReshapedArray{S,1,A,MI} where MI<:Tuple{Vararg{SignedMultiplicativeInverse{Int64},N} where N} where A<:Union{ReinterpretArray{T,N,S,A} where S where A<:Union{SubArray{T,N,A,I,true} where I<:Union{Tuple{Vararg{Real,N} where N}, Tuple{AbstractUnitRange,Vararg{Any,N} where N}} where A<:DenseArray where N where T, DenseArray} where N where T, SubArray{T,N,A,I,true} where I<:Union{Tuple{Vararg{Real,N} where N}, Tuple{AbstractUnitRange,Vararg{Any,N} where N}} where A<:DenseArray where N where T, DenseArray}, SubArray{S,1,A,I,L} where L where I<:Tuple{Vararg{Union{Int64, AbstractRange{Int64}, AbstractCartesianIndex},N} where N} where A<:Union{ReinterpretArray{T,N,S,A} where S where A<:Union{SubArray{T,N,A,I,true} where I<:Union{Tuple{Vararg{Real,N} where N}, Tuple{AbstractUnitRange,Vararg{Any,N} where N}} where A<:DenseArray where N where T, DenseArray} where N where T, ReshapedArray{T,N,A,MI} where MI<:Tuple{Vararg{SignedMultiplicativeInverse{Int64},N} where N} where A<:Union{ReinterpretArray{T,N,S,A} where S where A<:Union{SubArray{T,N,A,I,true} where I<:Union{Tuple{Vararg{Real,N} where N}, Tuple{AbstractUnitRange,Vararg{Any,N} where N}} where A<:DenseArray where N where T, DenseArray} where N where T, SubArray{T,N,A,I,true} where I<:Union{Tuple{Vararg{Real,N} where N}, Tuple{AbstractUnitRange,Vararg{Any,N} where N}} where A<:DenseArray where N where T, DenseArray} where N where T, DenseArray}}) where {T<:Union{Complex{Float32}, Complex{Float64}, Float32, Float64}, S} at C:\\cygwin\\home\\Administrator\\buildbot\\worker\\package_win64\\build\\usr\\share\\julia\\stdlib\\v1.1\\LinearAlgebra\\src\\matmul.jl:98\n  *(!Matched::Adjoint{#s623,#s622} where #s622<:LinearAlgebra.AbstractTriangular where #s623, ::AbstractArray{T,1} where T) at C:\\cygwin\\home\\Administrator\\buildbot\\worker\\package_win64\\build\\usr\\share\\julia\\stdlib\\v1.1\\LinearAlgebra\\src\\triangular.jl:1805\n  ...",
     "output_type": "error",
     "traceback": [
      "MethodError: no method matching *(::Array{Float64,1}, ::Array{Float64,1})\nClosest candidates are:\n  *(::Any, ::Any, !Matched::Any, !Matched::Any...) at operators.jl:502\n  *(!Matched::Adjoint{#s623,#s622} where #s622<:Union{DenseArray{T<:Union{Complex{Float32}, Complex{Float64}, Float32, Float64},2}, ReinterpretArray{T<:Union{Complex{Float32}, Complex{Float64}, Float32, Float64},2,S,A} where S where A<:Union{SubArray{T,N,A,I,true} where I<:Union{Tuple{Vararg{Real,N} where N}, Tuple{AbstractUnitRange,Vararg{Any,N} where N}} where A<:DenseArray where N where T, DenseArray}, ReshapedArray{T<:Union{Complex{Float32}, Complex{Float64}, Float32, Float64},2,A,MI} where MI<:Tuple{Vararg{SignedMultiplicativeInverse{Int64},N} where N} where A<:Union{ReinterpretArray{T,N,S,A} where S where A<:Union{SubArray{T,N,A,I,true} where I<:Union{Tuple{Vararg{Real,N} where N}, Tuple{AbstractUnitRange,Vararg{Any,N} where N}} where A<:DenseArray where N where T, DenseArray} where N where T, SubArray{T,N,A,I,true} where I<:Union{Tuple{Vararg{Real,N} where N}, Tuple{AbstractUnitRange,Vararg{Any,N} where N}} where A<:DenseArray where N where T, DenseArray}, SubArray{T<:Union{Complex{Float32}, Complex{Float64}, Float32, Float64},2,A,I,L} where L where I<:Tuple{Vararg{Union{Int64, AbstractRange{Int64}, AbstractCartesianIndex},N} where N} where A<:Union{ReinterpretArray{T,N,S,A} where S where A<:Union{SubArray{T,N,A,I,true} where I<:Union{Tuple{Vararg{Real,N} where N}, Tuple{AbstractUnitRange,Vararg{Any,N} where N}} where A<:DenseArray where N where T, DenseArray} where N where T, ReshapedArray{T,N,A,MI} where MI<:Tuple{Vararg{SignedMultiplicativeInverse{Int64},N} where N} where A<:Union{ReinterpretArray{T,N,S,A} where S where A<:Union{SubArray{T,N,A,I,true} where I<:Union{Tuple{Vararg{Real,N} where N}, Tuple{AbstractUnitRange,Vararg{Any,N} where N}} where A<:DenseArray where N where T, DenseArray} where N where T, SubArray{T,N,A,I,true} where I<:Union{Tuple{Vararg{Real,N} where N}, Tuple{AbstractUnitRange,Vararg{Any,N} where N}} where A<:DenseArray where N where T, DenseArray} where N where T, DenseArray}} where #s623, ::Union{DenseArray{S,1}, ReinterpretArray{S,1,S,A} where S where A<:Union{SubArray{T,N,A,I,true} where I<:Union{Tuple{Vararg{Real,N} where N}, Tuple{AbstractUnitRange,Vararg{Any,N} where N}} where A<:DenseArray where N where T, DenseArray}, ReshapedArray{S,1,A,MI} where MI<:Tuple{Vararg{SignedMultiplicativeInverse{Int64},N} where N} where A<:Union{ReinterpretArray{T,N,S,A} where S where A<:Union{SubArray{T,N,A,I,true} where I<:Union{Tuple{Vararg{Real,N} where N}, Tuple{AbstractUnitRange,Vararg{Any,N} where N}} where A<:DenseArray where N where T, DenseArray} where N where T, SubArray{T,N,A,I,true} where I<:Union{Tuple{Vararg{Real,N} where N}, Tuple{AbstractUnitRange,Vararg{Any,N} where N}} where A<:DenseArray where N where T, DenseArray}, SubArray{S,1,A,I,L} where L where I<:Tuple{Vararg{Union{Int64, AbstractRange{Int64}, AbstractCartesianIndex},N} where N} where A<:Union{ReinterpretArray{T,N,S,A} where S where A<:Union{SubArray{T,N,A,I,true} where I<:Union{Tuple{Vararg{Real,N} where N}, Tuple{AbstractUnitRange,Vararg{Any,N} where N}} where A<:DenseArray where N where T, DenseArray} where N where T, ReshapedArray{T,N,A,MI} where MI<:Tuple{Vararg{SignedMultiplicativeInverse{Int64},N} where N} where A<:Union{ReinterpretArray{T,N,S,A} where S where A<:Union{SubArray{T,N,A,I,true} where I<:Union{Tuple{Vararg{Real,N} where N}, Tuple{AbstractUnitRange,Vararg{Any,N} where N}} where A<:DenseArray where N where T, DenseArray} where N where T, SubArray{T,N,A,I,true} where I<:Union{Tuple{Vararg{Real,N} where N}, Tuple{AbstractUnitRange,Vararg{Any,N} where N}} where A<:DenseArray where N where T, DenseArray} where N where T, DenseArray}}) where {T<:Union{Complex{Float32}, Complex{Float64}, Float32, Float64}, S} at C:\\cygwin\\home\\Administrator\\buildbot\\worker\\package_win64\\build\\usr\\share\\julia\\stdlib\\v1.1\\LinearAlgebra\\src\\matmul.jl:98\n  *(!Matched::Adjoint{#s623,#s622} where #s622<:LinearAlgebra.AbstractTriangular where #s623, ::AbstractArray{T,1} where T) at C:\\cygwin\\home\\Administrator\\buildbot\\worker\\package_win64\\build\\usr\\share\\julia\\stdlib\\v1.1\\LinearAlgebra\\src\\triangular.jl:1805\n  ...",
      "",
      "Stacktrace:",
      " [1] back_solve(::Array{Float64,2}, ::Array{Float64,1}) at .\\In[64]:13",
      " [2] top-level scope at In[66]:1"
     ]
    }
   ],
   "source": [
    "x = back_solve(U, b)"
   ]
  },
  {
   "cell_type": "code",
   "execution_count": 71,
   "metadata": {},
   "outputs": [
    {
     "data": {
      "text/plain": [
       "4-element Array{Float64,1}:\n",
       " 0.0\n",
       " 0.0\n",
       " 0.0\n",
       " 0.0"
      ]
     },
     "execution_count": 71,
     "metadata": {},
     "output_type": "execute_result"
    }
   ],
   "source": [
    "U = [2.0 3 4 5; 0 3 10 1; 0 0 4 5; 0 0 0 8]\n",
    "b = [1.0, 2, 3, 4]\n",
    "x = zeros(4)"
   ]
  },
  {
   "cell_type": "code",
   "execution_count": 72,
   "metadata": {},
   "outputs": [
    {
     "data": {
      "text/plain": [
       "0.5"
      ]
     },
     "execution_count": 72,
     "metadata": {},
     "output_type": "execute_result"
    }
   ],
   "source": [
    "x[4] = b[4] / U[4, 4]"
   ]
  },
  {
   "cell_type": "code",
   "execution_count": 73,
   "metadata": {},
   "outputs": [
    {
     "data": {
      "text/plain": [
       "0.125"
      ]
     },
     "execution_count": 73,
     "metadata": {},
     "output_type": "execute_result"
    }
   ],
   "source": [
    "x[3] = (b[3] - (U[3, 4] * x[4])) / U[3, 3]"
   ]
  },
  {
   "cell_type": "code",
   "execution_count": 74,
   "metadata": {},
   "outputs": [
    {
     "data": {
      "text/plain": [
       "0.08333333333333333"
      ]
     },
     "execution_count": 74,
     "metadata": {},
     "output_type": "execute_result"
    }
   ],
   "source": [
    "x[2] = (b[2] - (U[2, 3] * x[3] + U[2, 4] * x[4])) / U[2,2]"
   ]
  },
  {
   "cell_type": "code",
   "execution_count": 76,
   "metadata": {},
   "outputs": [
    {
     "data": {
      "text/plain": [
       "-1.125"
      ]
     },
     "execution_count": 76,
     "metadata": {},
     "output_type": "execute_result"
    }
   ],
   "source": [
    "x[1] = (b[1] - (U[1, 2] * x[2] + U[1, 3] * x[3] + U[1, 4] * x[4])) / U[1,1]"
   ]
  },
  {
   "cell_type": "code",
   "execution_count": 78,
   "metadata": {},
   "outputs": [
    {
     "data": {
      "text/plain": [
       "4-element Array{Float64,1}:\n",
       " -1.125              \n",
       "  0.08333333333333333\n",
       "  0.125              \n",
       "  0.5                "
      ]
     },
     "execution_count": 78,
     "metadata": {},
     "output_type": "execute_result"
    }
   ],
   "source": [
    "# Confirming our answers match\n",
    "\n",
    "U \\ b"
   ]
  },
  {
   "cell_type": "code",
   "execution_count": 81,
   "metadata": {},
   "outputs": [
    {
     "data": {
      "text/plain": [
       "1-element Array{Float64,1}:\n",
       " 38.0"
      ]
     },
     "execution_count": 81,
     "metadata": {},
     "output_type": "execute_result"
    }
   ],
   "source": [
    "# Using list comprehension to find dot product\n",
    "\n",
    "sum([U[1, i] * [i] for i = 2:4])"
   ]
  },
  {
   "cell_type": "code",
   "execution_count": 84,
   "metadata": {},
   "outputs": [
    {
     "data": {
      "text/plain": [
       "back_solve (generic function with 1 method)"
      ]
     },
     "execution_count": 84,
     "metadata": {},
     "output_type": "execute_result"
    }
   ],
   "source": [
    "# fixing the error from earlier\n",
    "\n",
    "function back_solve(U, b)\n",
    "    \n",
    "    n = size(U)[1]\n",
    "    x = zeros(n)\n",
    "    \n",
    "    x[n] = b[n] / U[n, n]\n",
    "    \n",
    "    # if there's a bounds error it's probably because the next line is wrong, insure these are correct\n",
    "    for k = n-1 : -1 : 1\n",
    "        x[k] = (b[k] - sum([U[k, i] * x[i] for i = k+1 : n])) / U[k, k]\n",
    "    end\n",
    "    \n",
    "    return x\n",
    "end"
   ]
  },
  {
   "cell_type": "code",
   "execution_count": 68,
   "metadata": {},
   "outputs": [
    {
     "data": {
      "text/plain": [
       "4-element Array{Float64,1}:\n",
       "  2.7642348754448403 \n",
       " -1.9715302491103204 \n",
       "  0.650355871886121  \n",
       "  0.05693950177935943"
      ]
     },
     "execution_count": 68,
     "metadata": {},
     "output_type": "execute_result"
    }
   ],
   "source": [
    "back_solve(U, b)"
   ]
  },
  {
   "cell_type": "code",
   "execution_count": 96,
   "metadata": {},
   "outputs": [
    {
     "data": {
      "text/plain": [
       "3-element Array{Int64,1}:\n",
       " 2\n",
       " 3\n",
       " 1"
      ]
     },
     "execution_count": 96,
     "metadata": {},
     "output_type": "execute_result"
    }
   ],
   "source": [
    "# testing the forward solve solution for homework\n",
    "L = [1.0 0 0; 2 3 0; 4 5 1]\n",
    "b = [2, 3, 1]\n"
   ]
  },
  {
   "cell_type": "code",
   "execution_count": 77,
   "metadata": {},
   "outputs": [
    {
     "data": {
      "text/plain": [
       "3×3 Array{Float64,2}:\n",
       " 1.0  0.0  0.0\n",
       " 2.0  3.0  0.0\n",
       " 4.0  5.0  1.0"
      ]
     },
     "execution_count": 77,
     "metadata": {},
     "output_type": "execute_result"
    }
   ],
   "source": [
    "L"
   ]
  },
  {
   "cell_type": "code",
   "execution_count": 78,
   "metadata": {},
   "outputs": [
    {
     "data": {
      "text/plain": [
       "3-element Array{Float64,1}:\n",
       " 2.0\n",
       " 1.0\n",
       " 1.0"
      ]
     },
     "execution_count": 78,
     "metadata": {},
     "output_type": "execute_result"
    }
   ],
   "source": [
    "back_solve(L, b)"
   ]
  },
  {
   "cell_type": "code",
   "execution_count": 97,
   "metadata": {},
   "outputs": [
    {
     "data": {
      "text/plain": [
       "3-element Array{Float64,1}:\n",
       "  2.0               \n",
       " -0.3333333333333333\n",
       " -5.333333333333333 "
      ]
     },
     "execution_count": 97,
     "metadata": {},
     "output_type": "execute_result"
    }
   ],
   "source": [
    "c = L \\ b"
   ]
  },
  {
   "cell_type": "code",
   "execution_count": 9,
   "metadata": {},
   "outputs": [
    {
     "data": {
      "text/plain": [
       "-0.16666666666666666"
      ]
     },
     "execution_count": 9,
     "metadata": {},
     "output_type": "execute_result"
    }
   ],
   "source": [
    "b \\ c"
   ]
  },
  {
   "cell_type": "code",
   "execution_count": 10,
   "metadata": {},
   "outputs": [
    {
     "data": {
      "text/plain": [
       "-0.07167235494880546"
      ]
     },
     "execution_count": 10,
     "metadata": {},
     "output_type": "execute_result"
    }
   ],
   "source": [
    "c \\ b"
   ]
  },
  {
   "cell_type": "code",
   "execution_count": 84,
   "metadata": {},
   "outputs": [
    {
     "data": {
      "text/plain": [
       "back_solve (generic function with 1 method)"
      ]
     },
     "execution_count": 84,
     "metadata": {},
     "output_type": "execute_result"
    }
   ],
   "source": [
    "# Recalling the formulas from above\n",
    "\n",
    "function zero_column(j, A)\n",
    "    \n",
    "    U = A\n",
    "    n = size(A)[1]\n",
    "    \n",
    "    for i = j + 1 : n\n",
    "        ℓ_ij = -A[i, j] / A[j, j]\n",
    "        E_ij = Matrix{Float64}(I, n, n)\n",
    "        E_ij[i, j] = ℓ_ij\n",
    "        \n",
    "        U = E_ij * U\n",
    "        \n",
    "    end\n",
    "    \n",
    "    return U\n",
    "    \n",
    "end\n",
    "\n",
    "function upper_form(A)\n",
    "    \n",
    "    n = size(A)[1]\n",
    "    U = A\n",
    "    for i = 1 : n - 1\n",
    "        U = zero_column(i, U)\n",
    "    end\n",
    "    return U\n",
    "end\n",
    "\n",
    "function back_solve(U, b)\n",
    "    \n",
    "    n = size(U)[1]\n",
    "    x = zeros(n)\n",
    "    \n",
    "    x[n] = b[n] / U[n, n]\n",
    "    \n",
    "    # if there's a bounds error it's probably because the next line is wrong, insure these are correct\n",
    "    for k = n-1 : -1 : 1\n",
    "        x[k] = (b[k] - sum([U[k, i] * x[i] for i = k+1 : n])) / U[k, k]\n",
    "    end\n",
    "    \n",
    "    return x\n",
    "end"
   ]
  },
  {
   "cell_type": "markdown",
   "metadata": {},
   "source": [
    "# HOMEWORK"
   ]
  },
  {
   "cell_type": "code",
   "execution_count": 6,
   "metadata": {},
   "outputs": [
    {
     "data": {
      "text/plain": [
       "3-element Array{Int64,1}:\n",
       " 2\n",
       " 3\n",
       " 1"
      ]
     },
     "execution_count": 6,
     "metadata": {},
     "output_type": "execute_result"
    }
   ],
   "source": [
    "using LinearAlgebra\n",
    "\n",
    "L = [1.0 0 0; 2 3 0; 4 5 1]\n",
    "b = [2, 3, 1]"
   ]
  },
  {
   "cell_type": "code",
   "execution_count": 7,
   "metadata": {},
   "outputs": [
    {
     "data": {
      "text/plain": [
       "3-element Array{Float64,1}:\n",
       "  2.0               \n",
       " -0.3333333333333333\n",
       " -5.333333333333333 "
      ]
     },
     "execution_count": 7,
     "metadata": {},
     "output_type": "execute_result"
    }
   ],
   "source": [
    "# using these to compare my values to\n",
    "L \\ b"
   ]
  },
  {
   "cell_type": "code",
   "execution_count": 11,
   "metadata": {},
   "outputs": [
    {
     "data": {
      "text/plain": [
       "forward_solve (generic function with 1 method)"
      ]
     },
     "execution_count": 11,
     "metadata": {},
     "output_type": "execute_result"
    }
   ],
   "source": [
    "function forward_solve(L, b)\n",
    "    \n",
    "    n = size(L)[1]\n",
    "    c = zeros(n)\n",
    "    \n",
    "    c[1] = b[1] / L[1, 1]\n",
    "    \n",
    "    for k = 2 : n\n",
    "        c[k] = (b[k] - sum([L[k, i] * c[i] for i = 1 : k - 1])) / L[k, k]\n",
    "    end\n",
    "    \n",
    "    return c\n",
    "end"
   ]
  },
  {
   "cell_type": "code",
   "execution_count": 12,
   "metadata": {},
   "outputs": [
    {
     "data": {
      "text/plain": [
       "3-element Array{Float64,1}:\n",
       "  2.0               \n",
       " -0.3333333333333333\n",
       " -5.333333333333334 "
      ]
     },
     "execution_count": 12,
     "metadata": {},
     "output_type": "execute_result"
    }
   ],
   "source": [
    "forward_solve(L, b)"
   ]
  },
  {
   "cell_type": "code",
   "execution_count": null,
   "metadata": {},
   "outputs": [],
   "source": []
  },
  {
   "cell_type": "code",
   "execution_count": null,
   "metadata": {},
   "outputs": [],
   "source": []
  },
  {
   "cell_type": "code",
   "execution_count": null,
   "metadata": {},
   "outputs": [],
   "source": []
  },
  {
   "cell_type": "code",
   "execution_count": null,
   "metadata": {},
   "outputs": [],
   "source": [
    "\n"
   ]
  },
  {
   "cell_type": "markdown",
   "metadata": {},
   "source": [
    "# IN CLASS WORK 1/30"
   ]
  },
  {
   "cell_type": "code",
   "execution_count": 107,
   "metadata": {},
   "outputs": [
    {
     "data": {
      "text/plain": [
       "LU (generic function with 1 method)"
      ]
     },
     "execution_count": 107,
     "metadata": {},
     "output_type": "execute_result"
    }
   ],
   "source": [
    "function LU(A)\n",
    "    U = copy(A)\n",
    "    m = size(A)[1]\n",
    "    L = Matrix{Float64}(I, m, m)\n",
    "    \n",
    "    for k = 1 : m - 1\n",
    "        for j = k + 1 : m\n",
    "            L[j,k] = U[j,k] / U[k,k]\n",
    "            U[j,k:m] = U[j,k:m] - L[j,k] * U[k, k:m]\n",
    "        end\n",
    "    end\n",
    "    return L, U\n",
    "end\n"
   ]
  },
  {
   "cell_type": "code",
   "execution_count": 108,
   "metadata": {},
   "outputs": [
    {
     "data": {
      "text/plain": [
       "4×4 Array{Int64,2}:\n",
       " 2  1  1  0\n",
       " 4  3  3  1\n",
       " 8  7  9  5\n",
       " 6  7  9  8"
      ]
     },
     "execution_count": 108,
     "metadata": {},
     "output_type": "execute_result"
    }
   ],
   "source": [
    "A = [2 1 1 0; 4 3 3 1; 8 7 9 5; 6 7 9 8]"
   ]
  },
  {
   "cell_type": "code",
   "execution_count": 110,
   "metadata": {},
   "outputs": [
    {
     "data": {
      "text/plain": [
       "([1.0 0.0 0.0 0.0; 2.0 1.0 0.0 0.0; 4.0 3.0 1.0 0.0; 3.0 4.0 1.0 1.0], [2 1 1 0; 0 1 1 1; 0 0 2 2; 0 0 0 2])"
      ]
     },
     "execution_count": 110,
     "metadata": {},
     "output_type": "execute_result"
    }
   ],
   "source": [
    "L, U = LU(A)"
   ]
  },
  {
   "cell_type": "code",
   "execution_count": 111,
   "metadata": {},
   "outputs": [
    {
     "name": "stdout",
     "output_type": "stream",
     "text": [
      "[2 1 1 0; 4 3 3 1; 8 7 9 5; 6 7 9 8][1.0 0.0 0.0 0.0; 2.0 1.0 0.0 0.0; 4.0 3.0 1.0 0.0; 3.0 4.0 1.0 1.0][2 1 1 0; 0 1 1 1; 0 0 2 2; 0 0 0 2]"
     ]
    }
   ],
   "source": [
    "print(A)\n",
    "print(L)\n",
    "print(U)"
   ]
  },
  {
   "cell_type": "code",
   "execution_count": 112,
   "metadata": {},
   "outputs": [
    {
     "data": {
      "text/plain": [
       "forward_solve (generic function with 1 method)"
      ]
     },
     "execution_count": 112,
     "metadata": {},
     "output_type": "execute_result"
    }
   ],
   "source": [
    "function forward_solve(L, b)\n",
    "    \n",
    "    n = size(L)[1]\n",
    "    c = zeros(n)\n",
    "    \n",
    "    c[1] = b[1] / L[1, 1]\n",
    "    \n",
    "    for k = 2 : n\n",
    "        c[k] = (b[k] - sum([L[k, i] * c[i] for i = 1 : k - 1])) / L[k, k]\n",
    "    end\n",
    "    \n",
    "    return c\n",
    "end"
   ]
  },
  {
   "cell_type": "code",
   "execution_count": 113,
   "metadata": {},
   "outputs": [
    {
     "data": {
      "text/plain": [
       "back_solve (generic function with 1 method)"
      ]
     },
     "execution_count": 113,
     "metadata": {},
     "output_type": "execute_result"
    }
   ],
   "source": [
    "function back_solve(U, b)\n",
    "    \n",
    "    n = size(U)[1]\n",
    "    x = zeros(n)\n",
    "    \n",
    "    x[n] = b[n] / U[n, n]\n",
    "    \n",
    "    # if there's a bounds error it's probably because the next line is wrong, insure these are correct\n",
    "    for k = n-1 : -1 : 1\n",
    "        x[k] = (b[k] - sum([U[k, i] * x[i] for i = k+1 : n])) / U[k, k]\n",
    "    end\n",
    "    \n",
    "    return x\n",
    "end"
   ]
  },
  {
   "cell_type": "code",
   "execution_count": 114,
   "metadata": {},
   "outputs": [
    {
     "data": {
      "text/plain": [
       "solve_system (generic function with 1 method)"
      ]
     },
     "execution_count": 114,
     "metadata": {},
     "output_type": "execute_result"
    }
   ],
   "source": [
    "function solve_system(A, b)\n",
    "    L, U = LU(A)\n",
    "    c = forward_solve(L, b)\n",
    "    x = back_solve(U, c)\n",
    "    return x\n",
    "end"
   ]
  },
  {
   "cell_type": "code",
   "execution_count": 115,
   "metadata": {},
   "outputs": [
    {
     "data": {
      "text/plain": [
       "10000-element Array{Float64,1}:\n",
       " 0.5006440328057415  \n",
       " 0.7485704963900002  \n",
       " 0.6369347766626821  \n",
       " 0.88937213963839    \n",
       " 0.1467825841790611  \n",
       " 0.41843881390910753 \n",
       " 0.03511807084003293 \n",
       " 0.403037819300208   \n",
       " 0.6608439573825553  \n",
       " 0.012455795353099708\n",
       " 0.34778222014361493 \n",
       " 0.6560048104802327  \n",
       " 0.10536773899572327 \n",
       " ⋮                   \n",
       " 0.6548402291808721  \n",
       " 0.5853588879450577  \n",
       " 0.9670887536718993  \n",
       " 0.5700095090543227  \n",
       " 0.1808824453820168  \n",
       " 0.6416261359734705  \n",
       " 0.17886635533260797 \n",
       " 0.9967392863536155  \n",
       " 0.6430257901639398  \n",
       " 0.25136732429647135 \n",
       " 0.6678532545986204  \n",
       " 0.6537127041197208  "
      ]
     },
     "execution_count": 115,
     "metadata": {},
     "output_type": "execute_result"
    }
   ],
   "source": [
    "A = rand(10000, 10000)\n",
    "b = rand(10000)"
   ]
  },
  {
   "cell_type": "code",
   "execution_count": 116,
   "metadata": {},
   "outputs": [
    {
     "data": {
      "text/plain": [
       "10000-element Array{Float64,1}:\n",
       "  1.0963997805148613  \n",
       " -1.745316462407167   \n",
       "  1.866725718150959   \n",
       " -1.7373968245848876  \n",
       "  0.6893176681099858  \n",
       "  1.9880775760096085  \n",
       " -0.05869112023509631 \n",
       "  1.0999158147507975  \n",
       "  1.3022539933905823  \n",
       " -0.18142463001540302 \n",
       " -0.4345114821818516  \n",
       " -2.0071005409607907  \n",
       "  0.21148931125257447 \n",
       "  ⋮                   \n",
       "  0.15981688443750267 \n",
       " -0.2331739134401046  \n",
       "  0.807449537284557   \n",
       " -1.6819416863596879  \n",
       " -1.8531287987425293  \n",
       "  1.0433285014871871  \n",
       "  0.6655839717225329  \n",
       "  0.024434255890953813\n",
       "  0.8280679374833548  \n",
       " -0.8291348322232751  \n",
       "  1.832879868187486   \n",
       " -1.0963099610475284  "
      ]
     },
     "execution_count": 116,
     "metadata": {},
     "output_type": "execute_result"
    }
   ],
   "source": [
    "A\\ b"
   ]
  },
  {
   "cell_type": "code",
   "execution_count": null,
   "metadata": {},
   "outputs": [],
   "source": []
  }
 ],
 "metadata": {
  "kernelspec": {
   "display_name": "Julia 1.1.0",
   "language": "julia",
   "name": "julia-1.1"
  },
  "language_info": {
   "file_extension": ".jl",
   "mimetype": "application/julia",
   "name": "julia",
   "version": "1.1.0"
  }
 },
 "nbformat": 4,
 "nbformat_minor": 2
}
