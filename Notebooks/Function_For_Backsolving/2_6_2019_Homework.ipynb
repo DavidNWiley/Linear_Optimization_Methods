{
 "cells": [
  {
   "cell_type": "code",
   "execution_count": 1,
   "metadata": {},
   "outputs": [],
   "source": [
    "using LinearAlgebra"
   ]
  },
  {
   "cell_type": "code",
   "execution_count": 2,
   "metadata": {},
   "outputs": [
    {
     "data": {
      "text/plain": [
       "3×3 Array{Float64,2}:\n",
       " 0.858087  0.556089   0.880697\n",
       " 0.155426  0.459044   0.544017\n",
       " 0.180008  0.0407674  0.243855"
      ]
     },
     "execution_count": 2,
     "metadata": {},
     "output_type": "execute_result"
    }
   ],
   "source": [
    "A = rand(3,3)"
   ]
  },
  {
   "cell_type": "code",
   "execution_count": 3,
   "metadata": {},
   "outputs": [
    {
     "data": {
      "text/plain": [
       "LU{Float64,Array{Float64,2}}\n",
       "L factor:\n",
       "3×3 Array{Float64,2}:\n",
       " 1.0        0.0       0.0\n",
       " 0.181131   1.0       0.0\n",
       " 0.209778  -0.211789  1.0\n",
       "U factor:\n",
       "3×3 Array{Float64,2}:\n",
       " 0.858087  0.556089  0.880697\n",
       " 0.0       0.35832   0.384496\n",
       " 0.0       0.0       0.140535"
      ]
     },
     "execution_count": 3,
     "metadata": {},
     "output_type": "execute_result"
    }
   ],
   "source": [
    "L,U = factorize(A)"
   ]
  },
  {
   "cell_type": "code",
   "execution_count": 5,
   "metadata": {},
   "outputs": [
    {
     "data": {
      "text/plain": [
       "0.45231395325345014"
      ]
     },
     "execution_count": 5,
     "metadata": {},
     "output_type": "execute_result"
    }
   ],
   "source": [
    "average = (U[1,1] + U[2,2] + U[3,3])/3"
   ]
  },
  {
   "cell_type": "code",
   "execution_count": 25,
   "metadata": {},
   "outputs": [
    {
     "data": {
      "text/plain": [
       "GEPP (generic function with 1 method)"
      ]
     },
     "execution_count": 25,
     "metadata": {},
     "output_type": "execute_result"
    }
   ],
   "source": [
    "function GEPP(A)\n",
    "    U = copy(A)\n",
    "    m = size(A)[1]\n",
    "    L = Matrix{Float64}(I, m, m)\n",
    "    P = Matrix{Float64}(I, m, m)\n",
    "    \n",
    "    for k = 1 : m - 1\n",
    "        i >= k\n",
    "        U[k,k:m] = U[i,k:m]\n",
    "        L[k,1:k-1] = L[i,1:k-1]\n",
    "        P[k,:] = P[i,:]\n",
    "        for j = k + 1 : m\n",
    "            L[j,k] = U[j,k] / U[k,k]\n",
    "            U[j,k:m] = U[j,k:m] - L[j,k] * U[k, k:m]\n",
    "        end\n",
    "    end\n",
    "    return L, U, P\n",
    "end"
   ]
  },
  {
   "cell_type": "code",
   "execution_count": 26,
   "metadata": {},
   "outputs": [
    {
     "data": {
      "text/plain": [
       "4×4 Array{Float64,2}:\n",
       " 1.0  24.0  3.0  15.0\n",
       " 6.0  25.0  4.0  16.0\n",
       " 8.0  47.0  5.0  10.0\n",
       " 7.0   4.0  1.0  15.0"
      ]
     },
     "execution_count": 26,
     "metadata": {},
     "output_type": "execute_result"
    }
   ],
   "source": [
    "A = [1.0 24 3 15; 6 25 4 16; 8 47 5 10; 7 4 1 15]"
   ]
  },
  {
   "cell_type": "code",
   "execution_count": 27,
   "metadata": {},
   "outputs": [
    {
     "ename": "UndefVarError",
     "evalue": "UndefVarError: i not defined",
     "output_type": "error",
     "traceback": [
      "UndefVarError: i not defined",
      "",
      "Stacktrace:",
      " [1] GEPP(::Array{Float64,2}) at .\\In[25]:8",
      " [2] top-level scope at In[27]:1"
     ]
    }
   ],
   "source": [
    "GEPP(A)"
   ]
  },
  {
   "cell_type": "code",
   "execution_count": 21,
   "metadata": {},
   "outputs": [
    {
     "data": {
      "text/plain": [
       "LU{Float64,Array{Float64,2}}\n",
       "L factor:\n",
       "4×4 Array{Float64,2}:\n",
       " 1.0     0.0       0.0       0.0\n",
       " 0.875   1.0       0.0       0.0\n",
       " 0.75    0.276094  1.0       0.0\n",
       " 0.125  -0.488215  0.615385  1.0\n",
       "U factor:\n",
       "4×4 Array{Float64,2}:\n",
       " 8.0   47.0     5.0      10.0    \n",
       " 0.0  -37.125  -3.375     6.25   \n",
       " 0.0    0.0     1.18182   6.77441\n",
       " 0.0    0.0     0.0      12.6325 "
      ]
     },
     "execution_count": 21,
     "metadata": {},
     "output_type": "execute_result"
    }
   ],
   "source": [
    "factorize(A)"
   ]
  },
  {
   "cell_type": "code",
   "execution_count": null,
   "metadata": {},
   "outputs": [],
   "source": []
  }
 ],
 "metadata": {
  "kernelspec": {
   "display_name": "Julia 1.1.0",
   "language": "julia",
   "name": "julia-1.1"
  },
  "language_info": {
   "file_extension": ".jl",
   "mimetype": "application/julia",
   "name": "julia",
   "version": "1.1.0"
  }
 },
 "nbformat": 4,
 "nbformat_minor": 2
}
