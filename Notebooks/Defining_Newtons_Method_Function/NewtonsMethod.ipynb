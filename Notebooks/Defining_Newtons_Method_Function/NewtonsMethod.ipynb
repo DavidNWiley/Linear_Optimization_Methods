{
 "cells": [
  {
   "cell_type": "code",
   "execution_count": 2,
   "metadata": {},
   "outputs": [],
   "source": [
    "# This is a comment"
   ]
  },
  {
   "cell_type": "code",
   "execution_count": 3,
   "metadata": {},
   "outputs": [
    {
     "data": {
      "text/plain": [
       "22"
      ]
     },
     "execution_count": 3,
     "metadata": {},
     "output_type": "execute_result"
    }
   ],
   "source": [
    "10 +12"
   ]
  },
  {
   "cell_type": "code",
   "execution_count": 4,
   "metadata": {},
   "outputs": [
    {
     "data": {
      "text/plain": [
       "\"Julia!\""
      ]
     },
     "execution_count": 4,
     "metadata": {},
     "output_type": "execute_result"
    }
   ],
   "source": [
    "#This is a string\n",
    "s = \"Julia!\""
   ]
  },
  {
   "cell_type": "code",
   "execution_count": 5,
   "metadata": {},
   "outputs": [
    {
     "data": {
      "text/plain": [
       "17"
      ]
     },
     "execution_count": 5,
     "metadata": {},
     "output_type": "execute_result"
    }
   ],
   "source": [
    "# Variables\n",
    "x = 10\n",
    "y = 7\n",
    "x+y"
   ]
  },
  {
   "cell_type": "code",
   "execution_count": 6,
   "metadata": {},
   "outputs": [
    {
     "data": {
      "text/plain": [
       "5-element Array{Int64,1}:\n",
       " 1\n",
       " 2\n",
       " 3\n",
       " 4\n",
       " 5"
      ]
     },
     "execution_count": 6,
     "metadata": {},
     "output_type": "execute_result"
    }
   ],
   "source": [
    "x = [1,2,3,4,5]"
   ]
  },
  {
   "cell_type": "code",
   "execution_count": 7,
   "metadata": {},
   "outputs": [
    {
     "data": {
      "text/plain": [
       "1"
      ]
     },
     "execution_count": 7,
     "metadata": {},
     "output_type": "execute_result"
    }
   ],
   "source": [
    "# Vectors index at 1\n",
    "x[1]"
   ]
  },
  {
   "cell_type": "code",
   "execution_count": 8,
   "metadata": {},
   "outputs": [
    {
     "data": {
      "text/plain": [
       "(5,)"
      ]
     },
     "execution_count": 8,
     "metadata": {},
     "output_type": "execute_result"
    }
   ],
   "source": [
    "size(x)"
   ]
  },
  {
   "cell_type": "code",
   "execution_count": 9,
   "metadata": {},
   "outputs": [
    {
     "data": {
      "text/plain": [
       "3×4 Array{Int64,2}:\n",
       " 1   2  3   4\n",
       " 5   6  7   8\n",
       " 9  10  1  12"
      ]
     },
     "execution_count": 9,
     "metadata": {},
     "output_type": "execute_result"
    }
   ],
   "source": [
    "A = [1 2 3 4;5 6 7 8; 9 10 1 12]"
   ]
  },
  {
   "cell_type": "code",
   "execution_count": 10,
   "metadata": {},
   "outputs": [
    {
     "data": {
      "text/plain": [
       "6"
      ]
     },
     "execution_count": 10,
     "metadata": {},
     "output_type": "execute_result"
    }
   ],
   "source": [
    "# To access values\n",
    "A[2,2]"
   ]
  },
  {
   "cell_type": "code",
   "execution_count": 11,
   "metadata": {},
   "outputs": [
    {
     "data": {
      "text/plain": [
       "4×4 Array{Float64,2}:\n",
       " 0.117196  0.00584742  0.113311  0.88486 \n",
       " 0.757383  0.0938516   0.815988  0.583137\n",
       " 0.621076  0.101117    0.732724  0.62323 \n",
       " 0.606434  0.560596    0.313504  0.819822"
      ]
     },
     "execution_count": 11,
     "metadata": {},
     "output_type": "execute_result"
    }
   ],
   "source": [
    "# MAke random matrix\n",
    "A = rand(4,4)"
   ]
  },
  {
   "cell_type": "code",
   "execution_count": 12,
   "metadata": {},
   "outputs": [
    {
     "data": {
      "text/plain": [
       "4-element Array{Float64,1}:\n",
       " 0.8775010054539474\n",
       " 0.1754909482057112\n",
       " 0.7693069160075912\n",
       " 0.8238273610955569"
      ]
     },
     "execution_count": 12,
     "metadata": {},
     "output_type": "execute_result"
    }
   ],
   "source": [
    "#Make random vector\n",
    "b = rand(4)"
   ]
  },
  {
   "cell_type": "code",
   "execution_count": 13,
   "metadata": {},
   "outputs": [
    {
     "data": {
      "text/plain": [
       "4-element Array{Float64,1}:\n",
       " 0.9200084122523657\n",
       " 1.789223470654064 \n",
       " 1.6398634164530022\n",
       " 1.5470981866025617"
      ]
     },
     "execution_count": 13,
     "metadata": {},
     "output_type": "execute_result"
    }
   ],
   "source": [
    "# Multiplying the matrix by a vector\n",
    "A*b"
   ]
  },
  {
   "cell_type": "code",
   "execution_count": 14,
   "metadata": {},
   "outputs": [
    {
     "data": {
      "text/plain": [
       "4-element Array{Float64,1}:\n",
       " -7.091543485461962 \n",
       "  4.336847835139966 \n",
       "  5.4365664338029065\n",
       "  1.2060848207048498"
      ]
     },
     "execution_count": 14,
     "metadata": {},
     "output_type": "execute_result"
    }
   ],
   "source": [
    "# To find the values of x as in Ax = b, then use backslash\n",
    "x = A\\b"
   ]
  },
  {
   "cell_type": "code",
   "execution_count": 15,
   "metadata": {},
   "outputs": [],
   "source": [
    "# add pkg\n",
    "using LinearAlgebra"
   ]
  },
  {
   "cell_type": "code",
   "execution_count": 16,
   "metadata": {},
   "outputs": [
    {
     "data": {
      "text/plain": [
       "4"
      ]
     },
     "execution_count": 16,
     "metadata": {},
     "output_type": "execute_result"
    }
   ],
   "source": [
    "#finding rank\n",
    "rank(A)\n",
    "\n"
   ]
  },
  {
   "cell_type": "code",
   "execution_count": 17,
   "metadata": {},
   "outputs": [
    {
     "data": {
      "text/plain": [
       "4×4 Array{Float64,2}:\n",
       "  1.40021  12.3122    -14.1302     0.472873  \n",
       " -2.20876  -7.65373     8.1746     1.61371   \n",
       " -1.90551  -9.01823    11.9719    -0.629767  \n",
       "  1.20328  -0.425288    0.284391   0.00735149"
      ]
     },
     "execution_count": 17,
     "metadata": {},
     "output_type": "execute_result"
    }
   ],
   "source": [
    "# find the inverse\n",
    "inv(A)"
   ]
  },
  {
   "cell_type": "code",
   "execution_count": 18,
   "metadata": {},
   "outputs": [
    {
     "data": {
      "text/plain": [
       "1000×1000 Array{Float64,2}:\n",
       " 0.177464    0.706244  0.562113   …  0.3699     0.0205757  0.812036 \n",
       " 0.0243233   0.949282  0.888176      0.381112   0.316274   0.875624 \n",
       " 0.207492    0.29458   0.277792      0.0264875  0.0720186  0.11413  \n",
       " 0.419255    0.140297  0.543722      0.445779   0.55871    0.729399 \n",
       " 0.324237    0.844581  0.966029      0.0358788  0.136499   0.0317305\n",
       " 0.0210072   0.340605  0.169002   …  0.831986   0.219812   0.634562 \n",
       " 0.0136038   0.272304  0.677525      0.136693   0.450751   0.76759  \n",
       " 0.323028    0.603056  0.421967      0.316537   0.844783   0.0931326\n",
       " 0.535496    0.671243  0.226663      0.0880189  0.774784   0.425456 \n",
       " 0.290561    0.652119  0.762095      0.566192   0.5453     0.0550462\n",
       " 0.974464    0.357818  0.426305   …  0.735748   0.812427   0.134356 \n",
       " 0.940646    0.65359   0.786402      0.380675   0.291583   0.435141 \n",
       " 0.631892    0.296976  0.300025      0.953114   0.917304   0.147162 \n",
       " ⋮                                ⋱                                 \n",
       " 0.394419    0.284066  0.790291      0.667293   0.570046   0.242793 \n",
       " 0.280941    0.469971  0.550187      0.844012   0.963188   0.743707 \n",
       " 0.757894    0.306298  0.446753   …  0.547809   0.922583   0.464743 \n",
       " 0.108132    0.453236  0.931092      0.511932   0.0626485  0.552047 \n",
       " 0.512551    0.663445  0.420901      0.962248   0.270927   0.408469 \n",
       " 0.00194501  0.572633  0.432048      0.814781   0.416007   0.0895406\n",
       " 0.43854     0.547821  0.47145       0.967897   0.0358023  0.140346 \n",
       " 0.442658    0.588137  0.781682   …  0.161902   0.864746   0.342127 \n",
       " 0.882229    0.860386  0.492864      0.926358   0.145596   0.201516 \n",
       " 0.66371     0.856782  0.860594      0.711615   0.782507   0.108494 \n",
       " 0.50879     0.792132  0.207177      0.125453   0.619389   0.70125  \n",
       " 0.0888914   0.413325  0.0698757     0.105436   0.313872   0.865046 "
      ]
     },
     "execution_count": 18,
     "metadata": {},
     "output_type": "execute_result"
    }
   ],
   "source": [
    "A = rand(1000,1000)"
   ]
  },
  {
   "cell_type": "code",
   "execution_count": 19,
   "metadata": {},
   "outputs": [
    {
     "data": {
      "text/plain": [
       "1000"
      ]
     },
     "execution_count": 19,
     "metadata": {},
     "output_type": "execute_result"
    }
   ],
   "source": [
    "rank(A)"
   ]
  },
  {
   "cell_type": "code",
   "execution_count": 20,
   "metadata": {},
   "outputs": [
    {
     "data": {
      "text/plain": [
       "1000×1000 Array{Float64,2}:\n",
       " -0.0220471   -0.0906403  -0.0849142  -0.0710347   …  -0.0668315  -0.00564013\n",
       " -0.139001     0.0896204   0.0832602   0.0474223       0.042925   -0.0086546 \n",
       "  0.279817     0.0297453  -0.06482     0.0509085       0.0199345  -0.0542552 \n",
       " -0.00607502   0.102761   -0.191592   -0.216135       -0.220167   -0.0129609 \n",
       " -0.0584475   -0.126003    0.0101488  -0.0125623       0.0199287   0.143664  \n",
       " -0.0997921   -0.174741   -0.255076   -0.213084    …  -0.297282    0.0496722 \n",
       " -0.00736522   0.253434    0.164605    0.0366615       0.0928226  -0.12715   \n",
       " -0.128715     0.0479069  -0.0644601  -0.175667       -0.181126   -0.0553801 \n",
       " -0.110921     0.0773196   0.0409213  -0.182704       -0.204962   -0.0618092 \n",
       "  0.057236     0.0274149  -0.0701463   0.00236072      0.034952   -0.0555989 \n",
       " -0.114815    -0.383953   -0.39964    -0.335672    …  -0.506783    0.211294  \n",
       " -0.158277     0.0262684   0.0383419  -0.0912149      -0.155153   -0.107776  \n",
       "  0.0477126    0.333682    0.454489    0.370821        0.439925   -0.282095  \n",
       "  ⋮                                                ⋱                         \n",
       " -0.00998067  -0.128857   -0.143141   -0.151542       -0.0940816   0.0633297 \n",
       "  0.090039    -0.0126852   0.144106    0.166443        0.243504    0.0229925 \n",
       " -0.114969    -0.21305    -0.0879892   0.00418954  …  -0.0877622   0.12735   \n",
       " -0.111203     0.0123873  -0.117723   -0.156          -0.194693    0.00545822\n",
       " -0.29284     -0.0234281  -0.148847   -0.289637       -0.325649   -0.0390767 \n",
       " -0.111124    -0.22715    -0.0564531  -0.0858796      -0.0626696   0.124812  \n",
       " -0.00740427  -0.0833043  -0.160803   -0.204906       -0.357421   -0.00856953\n",
       "  0.262627    -0.0317902   0.184765    0.322644    …   0.399897    0.0451001 \n",
       "  0.198135     0.129126    0.283603    0.274446        0.341909   -0.12848   \n",
       " -0.0670654   -0.0317904  -0.0493288  -0.134476        0.0380468   0.0864704 \n",
       " -0.298871    -0.134025   -0.200371   -0.330614       -0.433515    0.0606873 \n",
       " -0.049214     0.156239   -0.0996867  -0.0742958      -0.10345    -0.0262837 "
      ]
     },
     "execution_count": 20,
     "metadata": {},
     "output_type": "execute_result"
    }
   ],
   "source": [
    "inv(A)"
   ]
  },
  {
   "cell_type": "code",
   "execution_count": 21,
   "metadata": {},
   "outputs": [
    {
     "data": {
      "text/plain": [
       "LU{Float64,Array{Float64,2}}\n",
       "L factor:\n",
       "1000×1000 Array{Float64,2}:\n",
       " 1.0         0.0          0.0          0.0        …  0.0        0.0       0.0\n",
       " 0.0770926   1.0          0.0          0.0           0.0        0.0       0.0\n",
       " 0.0701494   0.115452     1.0          0.0           0.0        0.0       0.0\n",
       " 0.735692   -0.390409    -0.150191     1.0           0.0        0.0       0.0\n",
       " 0.915431   -0.450693    -0.0981862   -0.0241778     0.0        0.0       0.0\n",
       " 0.951415    0.497502    -0.827949    -0.139694   …  0.0        0.0       0.0\n",
       " 0.621537    0.367664     0.290148    -0.704444      0.0        0.0       0.0\n",
       " 0.0567067   0.992216     0.372688    -0.941805      0.0        0.0       0.0\n",
       " 0.244507    0.156294     0.43787     -0.405913      0.0        0.0       0.0\n",
       " 0.770276   -0.436039     0.661724     0.389765      0.0        0.0       0.0\n",
       " 0.496272   -0.16302     -0.12652      0.41017    …  0.0        0.0       0.0\n",
       " 0.755474   -0.00141548   0.437296    -0.188369      0.0        0.0       0.0\n",
       " 0.533771    0.258587     0.443068    -0.296817      0.0        0.0       0.0\n",
       " ⋮                                                ⋱                          \n",
       " 0.382487    0.11411      0.00735042   0.218156      0.0        0.0       0.0\n",
       " 0.148455    0.320738     0.18927      0.207447      0.0        0.0       0.0\n",
       " 0.70862    -0.305871     0.791345     0.505951   …  0.0        0.0       0.0\n",
       " 0.680373   -0.0368734    0.635463    -0.512893      0.0        0.0       0.0\n",
       " 0.3738      0.00852384   0.720538     0.146868      0.0        0.0       0.0\n",
       " 0.180337    0.883802    -0.530966    -0.127794      0.0        0.0       0.0\n",
       " 0.2748      0.405948     0.413845     0.325227      0.0        0.0       0.0\n",
       " 0.227099    0.650087    -0.371987     0.501483   …  0.0        0.0       0.0\n",
       " 0.192362    0.596931     0.452119    -0.46242       0.0        0.0       0.0\n",
       " 0.502931   -0.141271     0.561594     0.330037      1.0        0.0       0.0\n",
       " 0.483797    0.352584     0.540065    -0.381273      0.955227   1.0       0.0\n",
       " 0.365357   -0.192412    -0.0313295    0.507399      0.917553  -0.480499  1.0\n",
       "U factor:\n",
       "1000×1000 Array{Float64,2}:\n",
       " 0.998774  0.543387  0.598947  0.489036  …   0.806567    0.201031    0.448157\n",
       " 0.0       0.953187  0.501881  0.815789      0.528127    0.0992865   0.138143\n",
       " 0.0       0.0       0.891218  0.486809      0.670353    0.559727    0.215212\n",
       " 0.0       0.0       0.0       1.02184       0.355443    0.930806    0.190156\n",
       " 0.0       0.0       0.0       0.0           0.222801    0.56897     0.121841\n",
       " 0.0       0.0       0.0       0.0       …  -0.0403191   0.622228    0.386605\n",
       " 0.0       0.0       0.0       0.0          -0.0173542   1.2854      0.779583\n",
       " 0.0       0.0       0.0       0.0          -0.215895    0.602591    0.123069\n",
       " 0.0       0.0       0.0       0.0          -0.316417    0.903722    0.593386\n",
       " 0.0       0.0       0.0       0.0          -0.128777    0.389626    0.456445\n",
       " 0.0       0.0       0.0       0.0       …   0.133481   -1.00367    -0.198156\n",
       " 0.0       0.0       0.0       0.0          -0.201773   -0.652092    0.443692\n",
       " 0.0       0.0       0.0       0.0           0.026616    0.314447    0.709614\n",
       " ⋮                                       ⋱                                   \n",
       " 0.0       0.0       0.0       0.0          -0.82198     0.309483   -1.86849 \n",
       " 0.0       0.0       0.0       0.0           5.09014     3.71658     1.61913 \n",
       " 0.0       0.0       0.0       0.0       …  -6.99143    -1.54365    -2.23199 \n",
       " 0.0       0.0       0.0       0.0           1.38856     1.05167     3.84011 \n",
       " 0.0       0.0       0.0       0.0          -1.51268     1.06841    -1.8918  \n",
       " 0.0       0.0       0.0       0.0           0.469784   -0.98143     4.68392 \n",
       " 0.0       0.0       0.0       0.0           3.67362     1.94125     0.779759\n",
       " 0.0       0.0       0.0       0.0       …   1.35621     3.92834     2.73136 \n",
       " 0.0       0.0       0.0       0.0           3.63476     3.11839    -0.726623\n",
       " 0.0       0.0       0.0       0.0          -1.70098    -0.477831   -1.07573 \n",
       " 0.0       0.0       0.0       0.0           0.0         2.32557     1.34768 \n",
       " 0.0       0.0       0.0       0.0           0.0         0.0         8.76641 "
      ]
     },
     "execution_count": 21,
     "metadata": {},
     "output_type": "execute_result"
    }
   ],
   "source": [
    "#Find the LU factorization\n",
    "L, U = lu(A) #lu() spits out two values"
   ]
  },
  {
   "cell_type": "code",
   "execution_count": 22,
   "metadata": {},
   "outputs": [
    {
     "ename": "ArgumentError",
     "evalue": "ArgumentError: Package Plots not found in current path:\n- Run `Pkg.add(\"Plots\")` to install the Plots package.\n",
     "output_type": "error",
     "traceback": [
      "ArgumentError: Package Plots not found in current path:\n- Run `Pkg.add(\"Plots\")` to install the Plots package.\n",
      "",
      "Stacktrace:",
      " [1] require(::Module, ::Symbol) at .\\loading.jl:817",
      " [2] top-level scope at In[22]:1"
     ]
    }
   ],
   "source": [
    "#import pkg\n",
    "using Plots"
   ]
  },
  {
   "cell_type": "code",
   "execution_count": 23,
   "metadata": {},
   "outputs": [
    {
     "ename": "UndefVarError",
     "evalue": "UndefVarError: plot not defined",
     "output_type": "error",
     "traceback": [
      "UndefVarError: plot not defined",
      "",
      "Stacktrace:",
      " [1] top-level scope at In[23]:3"
     ]
    }
   ],
   "source": [
    "#defining a function\n",
    "f(x) = x^2 - 2\n",
    "plot(f)\n",
    "\n",
    "#use plot(f, 0, 5) to restrict the domain 0 to 5"
   ]
  },
  {
   "cell_type": "code",
   "execution_count": 24,
   "metadata": {},
   "outputs": [
    {
     "ename": "UndefVarError",
     "evalue": "UndefVarError: plot not defined",
     "output_type": "error",
     "traceback": [
      "UndefVarError: plot not defined",
      "",
      "Stacktrace:",
      " [1] top-level scope at In[24]:4"
     ]
    }
   ],
   "source": [
    "# defining two functions\n",
    "f(x) = x^2 - 2\n",
    "g(x) = x^3\n",
    "plot([f,g])"
   ]
  },
  {
   "cell_type": "code",
   "execution_count": 25,
   "metadata": {},
   "outputs": [
    {
     "data": {
      "text/plain": [
       "df (generic function with 1 method)"
      ]
     },
     "execution_count": 25,
     "metadata": {},
     "output_type": "execute_result"
    }
   ],
   "source": [
    "# defining the derivative function\n",
    "function df(f, x, ϵ)\n",
    "    return(f(x+ϵ)-f(x))/ϵ\n",
    "end"
   ]
  },
  {
   "cell_type": "code",
   "execution_count": 26,
   "metadata": {},
   "outputs": [
    {
     "data": {
      "text/plain": [
       "4.0001000000078335"
      ]
     },
     "execution_count": 26,
     "metadata": {},
     "output_type": "execute_result"
    }
   ],
   "source": [
    "# creating a function to use the define function on\n",
    "g(x) = x^2 - 4\n",
    "\n",
    "#applying the function\n",
    "#use a really small epsilon\n",
    "df(g, 2.0, 0.0001)"
   ]
  },
  {
   "cell_type": "code",
   "execution_count": 27,
   "metadata": {},
   "outputs": [
    {
     "data": {
      "text/plain": [
       "Newtons_Method (generic function with 1 method)"
      ]
     },
     "execution_count": 27,
     "metadata": {},
     "output_type": "execute_result"
    }
   ],
   "source": [
    "# define the newton's method in a function\n",
    "# remember that when the value is really small, then stop because they're jumbling up\n",
    "function Newtons_Method(f, x_guess, ϵ)\n",
    "    x_old = x_guess\n",
    "    x_new = x_guess - f(x_guess)/df(f, x_guess, ϵ)\n",
    "    \n",
    "    while abs(x_new - x_old) > ϵ\n",
    "        x_old, x_new = x_new, x_new - f(x_new)/df(f, x_new, ϵ)\n",
    "    end\n",
    "    \n",
    "    return x_new\n",
    "end\n",
    "    "
   ]
  },
  {
   "cell_type": "code",
   "execution_count": 28,
   "metadata": {},
   "outputs": [
    {
     "data": {
      "text/plain": [
       "2.0000000002582445"
      ]
     },
     "execution_count": 28,
     "metadata": {},
     "output_type": "execute_result"
    }
   ],
   "source": [
    "Newtons_Method(g, 10.0, 0.0001)"
   ]
  },
  {
   "cell_type": "code",
   "execution_count": 29,
   "metadata": {},
   "outputs": [
    {
     "data": {
      "text/plain": [
       "1.4142135623747147"
      ]
     },
     "execution_count": 29,
     "metadata": {},
     "output_type": "execute_result"
    }
   ],
   "source": [
    "#using newtons method to find square root of 2\n",
    "h(x) = x^2 - 2\n",
    "Newtons_Method(h, 10.0, 0.0001)"
   ]
  },
  {
   "cell_type": "code",
   "execution_count": 30,
   "metadata": {},
   "outputs": [
    {
     "ename": "Base.IOError",
     "evalue": "IOError: could not spawn `pwd`: no such file or directory (ENOENT)",
     "output_type": "error",
     "traceback": [
      "IOError: could not spawn `pwd`: no such file or directory (ENOENT)",
      "",
      "Stacktrace:",
      " [1] _jl_spawn(::String, ::Array{String,1}, ::Cmd, ::Tuple{RawFD,RawFD,RawFD}) at .\\process.jl:367",
      " [2] (::getfield(Base, Symbol(\"##495#496\")){Cmd})(::Tuple{RawFD,RawFD,RawFD}) at .\\process.jl:509",
      " [3] setup_stdio(::getfield(Base, Symbol(\"##495#496\")){Cmd}, ::Tuple{RawFD,RawFD,RawFD}) at .\\process.jl:490",
      " [4] #_spawn#494(::Nothing, ::Function, ::Cmd, ::Tuple{RawFD,RawFD,RawFD}) at .\\process.jl:508",
      " [5] _spawn at .\\process.jl:504 [inlined]",
      " [6] #run#505(::Bool, ::Function, ::Cmd) at .\\process.jl:652",
      " [7] run at .\\process.jl:651 [inlined]",
      " [8] repl_cmd(::Cmd, ::IJulia.IJuliaStdio{Base.PipeEndpoint}) at .\\client.jl:77",
      " [9] top-level scope at In[30]:1"
     ]
    }
   ],
   "source": [
    ";pwd"
   ]
  },
  {
   "cell_type": "code",
   "execution_count": null,
   "metadata": {},
   "outputs": [],
   "source": []
  },
  {
   "cell_type": "code",
   "execution_count": null,
   "metadata": {},
   "outputs": [],
   "source": []
  }
 ],
 "metadata": {
  "kernelspec": {
   "display_name": "Julia 1.0.0",
   "language": "julia",
   "name": "julia-1.0"
  },
  "language_info": {
   "file_extension": ".jl",
   "mimetype": "application/julia",
   "name": "julia",
   "version": "1.0.0"
  }
 },
 "nbformat": 4,
 "nbformat_minor": 2
}
