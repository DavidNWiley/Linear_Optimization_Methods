{
 "cells": [
  {
   "cell_type": "code",
   "execution_count": 1,
   "metadata": {},
   "outputs": [],
   "source": [
    "# This is a comment"
   ]
  },
  {
   "cell_type": "code",
   "execution_count": 2,
   "metadata": {},
   "outputs": [
    {
     "data": {
      "text/plain": [
       "22"
      ]
     },
     "execution_count": 2,
     "metadata": {},
     "output_type": "execute_result"
    }
   ],
   "source": [
    "10 +12"
   ]
  },
  {
   "cell_type": "code",
   "execution_count": 3,
   "metadata": {},
   "outputs": [
    {
     "data": {
      "text/plain": [
       "\"Julia!\""
      ]
     },
     "execution_count": 3,
     "metadata": {},
     "output_type": "execute_result"
    }
   ],
   "source": [
    "#This is a string\n",
    "s = \"Julia!\""
   ]
  },
  {
   "cell_type": "code",
   "execution_count": 4,
   "metadata": {},
   "outputs": [
    {
     "data": {
      "text/plain": [
       "17"
      ]
     },
     "execution_count": 4,
     "metadata": {},
     "output_type": "execute_result"
    }
   ],
   "source": [
    "# Variables\n",
    "x = 10\n",
    "y = 7\n",
    "x+y"
   ]
  },
  {
   "cell_type": "code",
   "execution_count": 5,
   "metadata": {},
   "outputs": [
    {
     "data": {
      "text/plain": [
       "5-element Array{Int64,1}:\n",
       " 1\n",
       " 2\n",
       " 3\n",
       " 4\n",
       " 5"
      ]
     },
     "execution_count": 5,
     "metadata": {},
     "output_type": "execute_result"
    }
   ],
   "source": [
    "x = [1,2,3,4,5]"
   ]
  },
  {
   "cell_type": "code",
   "execution_count": 6,
   "metadata": {},
   "outputs": [
    {
     "data": {
      "text/plain": [
       "1"
      ]
     },
     "execution_count": 6,
     "metadata": {},
     "output_type": "execute_result"
    }
   ],
   "source": [
    "# Vectors index at 1\n",
    "x[1]"
   ]
  },
  {
   "cell_type": "code",
   "execution_count": 7,
   "metadata": {},
   "outputs": [
    {
     "data": {
      "text/plain": [
       "(5,)"
      ]
     },
     "execution_count": 7,
     "metadata": {},
     "output_type": "execute_result"
    }
   ],
   "source": [
    "size(x)"
   ]
  },
  {
   "cell_type": "code",
   "execution_count": 8,
   "metadata": {},
   "outputs": [
    {
     "data": {
      "text/plain": [
       "3×4 Array{Int64,2}:\n",
       " 1   2  3   4\n",
       " 5   6  7   8\n",
       " 9  10  1  12"
      ]
     },
     "execution_count": 8,
     "metadata": {},
     "output_type": "execute_result"
    }
   ],
   "source": [
    "A = [1 2 3 4;5 6 7 8; 9 10 1 12]"
   ]
  },
  {
   "cell_type": "code",
   "execution_count": 9,
   "metadata": {},
   "outputs": [
    {
     "data": {
      "text/plain": [
       "6"
      ]
     },
     "execution_count": 9,
     "metadata": {},
     "output_type": "execute_result"
    }
   ],
   "source": [
    "# To access values\n",
    "A[2,2]"
   ]
  },
  {
   "cell_type": "code",
   "execution_count": 10,
   "metadata": {},
   "outputs": [
    {
     "data": {
      "text/plain": [
       "4×4 Array{Float64,2}:\n",
       " 0.57413   0.413073  0.61806   0.948218\n",
       " 0.590908  0.877792  0.771624  0.125122\n",
       " 0.132498  0.623403  0.649689  0.782969\n",
       " 0.983933  0.85903   0.3741    0.851199"
      ]
     },
     "execution_count": 10,
     "metadata": {},
     "output_type": "execute_result"
    }
   ],
   "source": [
    "# MAke random matrix\n",
    "A = rand(4,4)"
   ]
  },
  {
   "cell_type": "code",
   "execution_count": 13,
   "metadata": {},
   "outputs": [
    {
     "data": {
      "text/plain": [
       "4-element Array{Float64,1}:\n",
       " 0.04695255435616019\n",
       " 0.5311517624738686 \n",
       " 0.13667470972133788\n",
       " 0.18048503799563775"
      ]
     },
     "execution_count": 13,
     "metadata": {},
     "output_type": "execute_result"
    }
   ],
   "source": [
    "#Make random vector\n",
    "b = rand(4)"
   ]
  },
  {
   "cell_type": "code",
   "execution_count": 14,
   "metadata": {},
   "outputs": [
    {
     "data": {
      "text/plain": [
       "4-element Array{Float64,1}:\n",
       " 0.5019735624871042\n",
       " 0.6220293668085844\n",
       " 0.5674530652691693\n",
       " 0.707232231957922 "
      ]
     },
     "execution_count": 14,
     "metadata": {},
     "output_type": "execute_result"
    }
   ],
   "source": [
    "# Multiplying the matrix by a vector\n",
    "A*b"
   ]
  },
  {
   "cell_type": "code",
   "execution_count": 16,
   "metadata": {},
   "outputs": [
    {
     "data": {
      "text/plain": [
       "4-element Array{Float64,1}:\n",
       "  0.09829843525657044\n",
       "  0.30759913807156114\n",
       "  0.32036863439413116\n",
       " -0.3528211249523204 "
      ]
     },
     "execution_count": 16,
     "metadata": {},
     "output_type": "execute_result"
    }
   ],
   "source": [
    "# To find the values of x as in Ax = b, then use backslash\n",
    "x = A\\b"
   ]
  },
  {
   "cell_type": "code",
   "execution_count": 17,
   "metadata": {},
   "outputs": [],
   "source": [
    "# add pkg\n",
    "using LinearAlgebra"
   ]
  },
  {
   "cell_type": "code",
   "execution_count": 20,
   "metadata": {},
   "outputs": [
    {
     "data": {
      "text/plain": [
       "4"
      ]
     },
     "execution_count": 20,
     "metadata": {},
     "output_type": "execute_result"
    }
   ],
   "source": [
    "#finding rank\n",
    "rank(A)\n",
    "\n"
   ]
  },
  {
   "cell_type": "code",
   "execution_count": 21,
   "metadata": {},
   "outputs": [
    {
     "data": {
      "text/plain": [
       "4×4 Array{Float64,2}:\n",
       "  1.18384    0.449652   -1.83446    0.302542\n",
       " -2.33953   -0.0134361   1.57284    1.1614  \n",
       "  1.7162     1.12949    -0.507026  -1.61146 \n",
       "  0.238347  -1.00262     0.756039   0.361243"
      ]
     },
     "execution_count": 21,
     "metadata": {},
     "output_type": "execute_result"
    }
   ],
   "source": [
    "# find the inverse\n",
    "inv(A)"
   ]
  },
  {
   "cell_type": "code",
   "execution_count": 22,
   "metadata": {},
   "outputs": [
    {
     "data": {
      "text/plain": [
       "1000×1000 Array{Float64,2}:\n",
       " 0.770448  0.811798   0.208885   0.154136  …  0.759554   0.858025   0.971979 \n",
       " 0.443768  0.706686   0.497641   0.116236     0.821843   0.694817   0.886925 \n",
       " 0.633655  0.0516723  0.207938   0.222158     0.0715506  0.743606   0.281104 \n",
       " 0.225258  0.0620113  0.580248   0.453843     0.509547   0.0691766  0.877707 \n",
       " 0.342388  0.432019   0.402571   0.367086     0.646578   0.092581   0.418538 \n",
       " 0.313475  0.822193   0.0858846  0.742021  …  0.161273   0.142186   0.987574 \n",
       " 0.918009  0.589222   0.0893704  0.412342     0.47339    0.159645   0.508981 \n",
       " 0.68072   0.694459   0.941294   0.167241     0.901395   0.66726    0.0612748\n",
       " 0.617729  0.969629   0.856216   0.8997       0.957974   0.778334   0.178743 \n",
       " 0.906473  0.202992   0.17254    0.120678     0.677915   0.280598   0.336207 \n",
       " 0.860659  0.209899   0.0116051  0.68527   …  0.736034   0.92538    0.0412792\n",
       " 0.105159  0.635246   0.98463    0.399084     0.20832    0.0388371  0.450402 \n",
       " 0.82637   0.0628857  0.750382   0.819071     0.810646   0.99459    0.52945  \n",
       " ⋮                                         ⋱                                 \n",
       " 0.200853  0.782006   0.131741   0.650747     0.767021   0.55132    0.495274 \n",
       " 0.310171  0.192046   0.408276   0.14767      0.489863   0.921188   0.0207261\n",
       " 0.36207   0.233828   0.880312   0.893879  …  0.90802    0.220021   0.893077 \n",
       " 0.61365   0.14269    0.565258   0.196157     0.758674   0.387981   0.342574 \n",
       " 0.336776  0.19697    0.389985   0.294186     0.357185   0.526709   0.378944 \n",
       " 0.162421  0.931195   0.307637   0.258333     0.855348   0.717215   0.654553 \n",
       " 0.207405  0.65572    0.515194   0.846112     0.732977   0.198046   0.264718 \n",
       " 0.202028  0.382456   0.108328   0.995318  …  0.407121   0.521788   0.417081 \n",
       " 0.238495  0.759604   0.982639   0.421051     0.347935   0.547469   0.573466 \n",
       " 0.510428  0.575186   0.360672   0.89333      0.625476   0.314333   0.639855 \n",
       " 0.966613  0.468324   0.563255   0.76747      0.242644   0.799932   0.830705 \n",
       " 0.822702  0.241925   0.315842   0.174333     0.358434   0.856895   0.179754 "
      ]
     },
     "execution_count": 22,
     "metadata": {},
     "output_type": "execute_result"
    }
   ],
   "source": [
    "A = rand(1000,1000)"
   ]
  },
  {
   "cell_type": "code",
   "execution_count": 23,
   "metadata": {},
   "outputs": [
    {
     "data": {
      "text/plain": [
       "1000"
      ]
     },
     "execution_count": 23,
     "metadata": {},
     "output_type": "execute_result"
    }
   ],
   "source": [
    "rank(A)"
   ]
  },
  {
   "cell_type": "code",
   "execution_count": 24,
   "metadata": {},
   "outputs": [
    {
     "data": {
      "text/plain": [
       "1000×1000 Array{Float64,2}:\n",
       " -0.0051362   0.226804     …   0.080404    -0.112078   -0.0275658\n",
       "  0.345278    0.312934         0.0502634    0.263823   -0.0464026\n",
       "  0.0991265  -0.000621351      0.0135662    0.187603    0.0164719\n",
       " -0.0304116   0.0884611       -0.0671752   -0.118412   -0.113912 \n",
       "  0.113354    0.00992111      -0.0766793    0.0783002  -0.126985 \n",
       " -0.132456   -0.226002     …  -0.169384    -0.0269454  -0.009585 \n",
       "  0.25481     0.0124307        0.0612197    0.299664    0.0534219\n",
       " -0.346558   -0.0987231       -0.126234    -0.354669   -0.179361 \n",
       " -0.0422225   0.14764          0.023594    -0.10686    -0.0553661\n",
       " -0.0994893  -0.182287         0.031076    -0.0571812   0.129041 \n",
       " -0.308838   -0.156811     …  -0.0211544   -0.285949    0.0244721\n",
       "  0.0729898  -0.0192606       -0.0476791    0.0715217  -0.0142266\n",
       "  0.0476689   0.158786        -0.00355499  -0.0743317  -0.104534 \n",
       "  ⋮                        ⋱                                     \n",
       "  0.249389    0.260338        -0.0353393    0.168543   -0.15849  \n",
       "  0.0201135  -0.0585297        0.0491806   -0.0597613  -0.0500223\n",
       "  0.0978878  -0.0560979    …  -0.0262736    0.1685      0.0177037\n",
       "  0.190515    0.123911        -0.0199436    0.0650498  -0.095487 \n",
       "  0.132989    0.111614         0.0707239    0.083789   -0.0182868\n",
       " -0.0711937   0.104372        -0.0867057   -0.173858   -0.222593 \n",
       "  0.101924   -0.0943183       -0.0787877    0.0716512  -0.0696529\n",
       "  0.276967    0.183209     …   0.00616259   0.126511   -0.10514  \n",
       " -0.316707   -0.275626        -0.137192    -0.26769    -0.131631 \n",
       "  0.106363    0.0657998       -0.0940689   -0.0368742  -0.12557  \n",
       " -0.0243268  -0.0562195        0.158746     0.0464436   0.254667 \n",
       " -0.120526   -0.245633        -0.137424    -0.114821   -0.0396294"
      ]
     },
     "execution_count": 24,
     "metadata": {},
     "output_type": "execute_result"
    }
   ],
   "source": [
    "inv(A)"
   ]
  },
  {
   "cell_type": "code",
   "execution_count": 26,
   "metadata": {},
   "outputs": [
    {
     "data": {
      "text/plain": [
       "LU{Float64,Array{Float64,2}}\n",
       "L factor:\n",
       "1000×1000 Array{Float64,2}:\n",
       " 1.0          0.0         0.0         0.0        …   0.0        0.0       0.0\n",
       " 0.0215506    1.0         0.0         0.0            0.0        0.0       0.0\n",
       " 0.00732361   0.193398    1.0         0.0            0.0        0.0       0.0\n",
       " 0.129634    -0.0173456   0.0442661   1.0            0.0        0.0       0.0\n",
       " 0.650605     0.756266    0.0916933   0.150098       0.0        0.0       0.0\n",
       " 0.31358      0.744994   -0.227656    0.395151   …   0.0        0.0       0.0\n",
       " 0.941708    -0.180638    0.249338   -0.372847       0.0        0.0       0.0\n",
       " 0.466185     0.572314   -0.234963   -0.47895        0.0        0.0       0.0\n",
       " 0.580922     0.657618    0.658318    0.0594399      0.0        0.0       0.0\n",
       " 0.798116     0.335581   -0.383337   -0.303715       0.0        0.0       0.0\n",
       " 0.581118     0.253601    0.67449     0.186745   …   0.0        0.0       0.0\n",
       " 0.991758    -0.221053    0.162644   -0.652212       0.0        0.0       0.0\n",
       " 0.0558889    0.978676    0.0215188   0.544151       0.0        0.0       0.0\n",
       " ⋮                                               ⋱                           \n",
       " 0.750956     0.24167    -0.185601    0.360026       0.0        0.0       0.0\n",
       " 0.987777     0.145102    0.50895    -0.371197       0.0        0.0       0.0\n",
       " 0.953333     0.634682   -0.0996586  -0.378605   …   0.0        0.0       0.0\n",
       " 0.957986     0.158152    0.164141   -0.316182       0.0        0.0       0.0\n",
       " 0.939819     0.239254   -0.131118    0.174876       0.0        0.0       0.0\n",
       " 0.889713    -0.21512     0.652614    0.206895       0.0        0.0       0.0\n",
       " 0.254472     0.583219    0.112471   -0.28106        0.0        0.0       0.0\n",
       " 0.339738    -0.0450213   0.680915    0.235444   …   0.0        0.0       0.0\n",
       " 0.479476     0.710299    0.384907   -0.13037        0.0        0.0       0.0\n",
       " 0.152368    -0.0177053  -0.0131488   0.183638       1.0        0.0       0.0\n",
       " 0.486929     0.799083    0.592469   -0.61867       -0.632786   1.0       0.0\n",
       " 0.323548     0.872039    0.32785     0.17569        0.719909  -0.618172  1.0\n",
       "U factor:\n",
       "1000×1000 Array{Float64,2}:\n",
       " 0.999665  0.268091  0.357048  …    0.129453   0.0338685    0.0109352\n",
       " 0.0       0.99078   0.250943       0.973002   0.07844      0.444523 \n",
       " 0.0       0.0       0.935753       0.118959   0.113326     0.667166 \n",
       " 0.0       0.0       0.0            0.349942   0.927249     0.848226 \n",
       " 0.0       0.0       0.0           -0.484187   0.00623837  -0.0349899\n",
       " 0.0       0.0       0.0       …   -0.778576  -0.266662     0.465119 \n",
       " 0.0       0.0       0.0            1.03799    0.886885     0.168137 \n",
       " 0.0       0.0       0.0            0.164431   1.23163      0.356495 \n",
       " 0.0       0.0       0.0           -0.315965   0.0328862    0.165868 \n",
       " 0.0       0.0       0.0           -0.262926   1.04942      0.871294 \n",
       " 0.0       0.0       0.0       …    0.432479  -0.475235    -1.29427  \n",
       " 0.0       0.0       0.0           -0.165473  -0.60244      0.399375 \n",
       " 0.0       0.0       0.0            0.263398  -0.319003    -1.03025  \n",
       " ⋮                             ⋱                                     \n",
       " 0.0       0.0       0.0           -4.35687   -3.19795     -7.76015  \n",
       " 0.0       0.0       0.0            0.417939  -6.0375      -1.76843  \n",
       " 0.0       0.0       0.0       …    6.98122   -8.12151      4.01269  \n",
       " 0.0       0.0       0.0            2.51559    0.170469     2.45835  \n",
       " 0.0       0.0       0.0           -6.71974    0.806634    -1.81994  \n",
       " 0.0       0.0       0.0            8.14504   -6.81665      5.02447  \n",
       " 0.0       0.0       0.0           -4.12963    4.56976     -1.65334  \n",
       " 0.0       0.0       0.0       …  -13.4818     5.37231     -1.38887  \n",
       " 0.0       0.0       0.0           -1.05007    0.748946    -3.41239  \n",
       " 0.0       0.0       0.0            4.21282    4.37278      2.22656  \n",
       " 0.0       0.0       0.0            0.0        5.73088     -0.474679 \n",
       " 0.0       0.0       0.0            0.0        0.0         -2.08774  "
      ]
     },
     "execution_count": 26,
     "metadata": {},
     "output_type": "execute_result"
    }
   ],
   "source": [
    "#Find the LU factorization\n",
    "L, U = lu(A) #lu() spits out two values"
   ]
  },
  {
   "cell_type": "code",
   "execution_count": 27,
   "metadata": {},
   "outputs": [],
   "source": [
    "#import pkg\n",
    "using Plots"
   ]
  },
  {
   "cell_type": "code",
   "execution_count": 29,
   "metadata": {},
   "outputs": [
    {
     "data": {
      "image/svg+xml": [
       "<?xml version=\"1.0\" encoding=\"utf-8\"?>\n",
       "<svg xmlns=\"http://www.w3.org/2000/svg\" xmlns:xlink=\"http://www.w3.org/1999/xlink\" width=\"600\" height=\"400\" viewBox=\"0 0 2400 1600\">\n",
       "<defs>\n",
       "  <clipPath id=\"clip6900\">\n",
       "    <rect x=\"0\" y=\"0\" width=\"2000\" height=\"2000\"/>\n",
       "  </clipPath>\n",
       "</defs>\n",
       "<defs>\n",
       "  <clipPath id=\"clip6901\">\n",
       "    <rect x=\"0\" y=\"0\" width=\"2400\" height=\"1600\"/>\n",
       "  </clipPath>\n",
       "</defs>\n",
       "<polygon clip-path=\"url(#clip6901)\" points=\"\n",
       "0,1600 2400,1600 2400,0 0,0 \n",
       "  \" fill=\"#ffffff\" fill-rule=\"evenodd\" fill-opacity=\"1\"/>\n",
       "<defs>\n",
       "  <clipPath id=\"clip6902\">\n",
       "    <rect x=\"480\" y=\"0\" width=\"1681\" height=\"1600\"/>\n",
       "  </clipPath>\n",
       "</defs>\n",
       "<polygon clip-path=\"url(#clip6901)\" points=\"\n",
       "148.013,1503.47 2321.26,1503.47 2321.26,47.2441 148.013,47.2441 \n",
       "  \" fill=\"#ffffff\" fill-rule=\"evenodd\" fill-opacity=\"1\"/>\n",
       "<defs>\n",
       "  <clipPath id=\"clip6903\">\n",
       "    <rect x=\"148\" y=\"47\" width=\"2174\" height=\"1457\"/>\n",
       "  </clipPath>\n",
       "</defs>\n",
       "<polyline clip-path=\"url(#clip6903)\" style=\"stroke:#000000; stroke-width:2; stroke-opacity:0.1; fill:none\" points=\"\n",
       "  411.313,1503.47 411.313,47.2441 \n",
       "  \"/>\n",
       "<polyline clip-path=\"url(#clip6903)\" style=\"stroke:#000000; stroke-width:2; stroke-opacity:0.1; fill:none\" points=\"\n",
       "  824.998,1503.47 824.998,47.2441 \n",
       "  \"/>\n",
       "<polyline clip-path=\"url(#clip6903)\" style=\"stroke:#000000; stroke-width:2; stroke-opacity:0.1; fill:none\" points=\"\n",
       "  1238.68,1503.47 1238.68,47.2441 \n",
       "  \"/>\n",
       "<polyline clip-path=\"url(#clip6903)\" style=\"stroke:#000000; stroke-width:2; stroke-opacity:0.1; fill:none\" points=\"\n",
       "  1652.37,1503.47 1652.37,47.2441 \n",
       "  \"/>\n",
       "<polyline clip-path=\"url(#clip6903)\" style=\"stroke:#000000; stroke-width:2; stroke-opacity:0.1; fill:none\" points=\"\n",
       "  2066.05,1503.47 2066.05,47.2441 \n",
       "  \"/>\n",
       "<polyline clip-path=\"url(#clip6903)\" style=\"stroke:#000000; stroke-width:2; stroke-opacity:0.1; fill:none\" points=\"\n",
       "  148.013,1351.31 2321.26,1351.31 \n",
       "  \"/>\n",
       "<polyline clip-path=\"url(#clip6903)\" style=\"stroke:#000000; stroke-width:2; stroke-opacity:0.1; fill:none\" points=\"\n",
       "  148.013,1073.84 2321.26,1073.84 \n",
       "  \"/>\n",
       "<polyline clip-path=\"url(#clip6903)\" style=\"stroke:#000000; stroke-width:2; stroke-opacity:0.1; fill:none\" points=\"\n",
       "  148.013,796.366 2321.26,796.366 \n",
       "  \"/>\n",
       "<polyline clip-path=\"url(#clip6903)\" style=\"stroke:#000000; stroke-width:2; stroke-opacity:0.1; fill:none\" points=\"\n",
       "  148.013,518.895 2321.26,518.895 \n",
       "  \"/>\n",
       "<polyline clip-path=\"url(#clip6903)\" style=\"stroke:#000000; stroke-width:2; stroke-opacity:0.1; fill:none\" points=\"\n",
       "  148.013,241.425 2321.26,241.425 \n",
       "  \"/>\n",
       "<polyline clip-path=\"url(#clip6901)\" style=\"stroke:#000000; stroke-width:4; stroke-opacity:1; fill:none\" points=\"\n",
       "  148.013,1503.47 2321.26,1503.47 \n",
       "  \"/>\n",
       "<polyline clip-path=\"url(#clip6901)\" style=\"stroke:#000000; stroke-width:4; stroke-opacity:1; fill:none\" points=\"\n",
       "  148.013,1503.47 148.013,47.2441 \n",
       "  \"/>\n",
       "<polyline clip-path=\"url(#clip6901)\" style=\"stroke:#000000; stroke-width:4; stroke-opacity:1; fill:none\" points=\"\n",
       "  411.313,1503.47 411.313,1481.63 \n",
       "  \"/>\n",
       "<polyline clip-path=\"url(#clip6901)\" style=\"stroke:#000000; stroke-width:4; stroke-opacity:1; fill:none\" points=\"\n",
       "  824.998,1503.47 824.998,1481.63 \n",
       "  \"/>\n",
       "<polyline clip-path=\"url(#clip6901)\" style=\"stroke:#000000; stroke-width:4; stroke-opacity:1; fill:none\" points=\"\n",
       "  1238.68,1503.47 1238.68,1481.63 \n",
       "  \"/>\n",
       "<polyline clip-path=\"url(#clip6901)\" style=\"stroke:#000000; stroke-width:4; stroke-opacity:1; fill:none\" points=\"\n",
       "  1652.37,1503.47 1652.37,1481.63 \n",
       "  \"/>\n",
       "<polyline clip-path=\"url(#clip6901)\" style=\"stroke:#000000; stroke-width:4; stroke-opacity:1; fill:none\" points=\"\n",
       "  2066.05,1503.47 2066.05,1481.63 \n",
       "  \"/>\n",
       "<polyline clip-path=\"url(#clip6901)\" style=\"stroke:#000000; stroke-width:4; stroke-opacity:1; fill:none\" points=\"\n",
       "  148.013,1351.31 180.612,1351.31 \n",
       "  \"/>\n",
       "<polyline clip-path=\"url(#clip6901)\" style=\"stroke:#000000; stroke-width:4; stroke-opacity:1; fill:none\" points=\"\n",
       "  148.013,1073.84 180.612,1073.84 \n",
       "  \"/>\n",
       "<polyline clip-path=\"url(#clip6901)\" style=\"stroke:#000000; stroke-width:4; stroke-opacity:1; fill:none\" points=\"\n",
       "  148.013,796.366 180.612,796.366 \n",
       "  \"/>\n",
       "<polyline clip-path=\"url(#clip6901)\" style=\"stroke:#000000; stroke-width:4; stroke-opacity:1; fill:none\" points=\"\n",
       "  148.013,518.895 180.612,518.895 \n",
       "  \"/>\n",
       "<polyline clip-path=\"url(#clip6901)\" style=\"stroke:#000000; stroke-width:4; stroke-opacity:1; fill:none\" points=\"\n",
       "  148.013,241.425 180.612,241.425 \n",
       "  \"/>\n",
       "<g clip-path=\"url(#clip6901)\">\n",
       "<text style=\"fill:#000000; fill-opacity:1; font-family:Arial,Helvetica Neue,Helvetica,sans-serif; font-size:48px; text-anchor:middle;\" transform=\"rotate(0, 411.313, 1557.47)\" x=\"411.313\" y=\"1557.47\">-4</text>\n",
       "</g>\n",
       "<g clip-path=\"url(#clip6901)\">\n",
       "<text style=\"fill:#000000; fill-opacity:1; font-family:Arial,Helvetica Neue,Helvetica,sans-serif; font-size:48px; text-anchor:middle;\" transform=\"rotate(0, 824.998, 1557.47)\" x=\"824.998\" y=\"1557.47\">-2</text>\n",
       "</g>\n",
       "<g clip-path=\"url(#clip6901)\">\n",
       "<text style=\"fill:#000000; fill-opacity:1; font-family:Arial,Helvetica Neue,Helvetica,sans-serif; font-size:48px; text-anchor:middle;\" transform=\"rotate(0, 1238.68, 1557.47)\" x=\"1238.68\" y=\"1557.47\">0</text>\n",
       "</g>\n",
       "<g clip-path=\"url(#clip6901)\">\n",
       "<text style=\"fill:#000000; fill-opacity:1; font-family:Arial,Helvetica Neue,Helvetica,sans-serif; font-size:48px; text-anchor:middle;\" transform=\"rotate(0, 1652.37, 1557.47)\" x=\"1652.37\" y=\"1557.47\">2</text>\n",
       "</g>\n",
       "<g clip-path=\"url(#clip6901)\">\n",
       "<text style=\"fill:#000000; fill-opacity:1; font-family:Arial,Helvetica Neue,Helvetica,sans-serif; font-size:48px; text-anchor:middle;\" transform=\"rotate(0, 2066.05, 1557.47)\" x=\"2066.05\" y=\"1557.47\">4</text>\n",
       "</g>\n",
       "<g clip-path=\"url(#clip6901)\">\n",
       "<text style=\"fill:#000000; fill-opacity:1; font-family:Arial,Helvetica Neue,Helvetica,sans-serif; font-size:48px; text-anchor:end;\" transform=\"rotate(0, 124.013, 1368.81)\" x=\"124.013\" y=\"1368.81\">0</text>\n",
       "</g>\n",
       "<g clip-path=\"url(#clip6901)\">\n",
       "<text style=\"fill:#000000; fill-opacity:1; font-family:Arial,Helvetica Neue,Helvetica,sans-serif; font-size:48px; text-anchor:end;\" transform=\"rotate(0, 124.013, 1091.34)\" x=\"124.013\" y=\"1091.34\">5</text>\n",
       "</g>\n",
       "<g clip-path=\"url(#clip6901)\">\n",
       "<text style=\"fill:#000000; fill-opacity:1; font-family:Arial,Helvetica Neue,Helvetica,sans-serif; font-size:48px; text-anchor:end;\" transform=\"rotate(0, 124.013, 813.866)\" x=\"124.013\" y=\"813.866\">10</text>\n",
       "</g>\n",
       "<g clip-path=\"url(#clip6901)\">\n",
       "<text style=\"fill:#000000; fill-opacity:1; font-family:Arial,Helvetica Neue,Helvetica,sans-serif; font-size:48px; text-anchor:end;\" transform=\"rotate(0, 124.013, 536.395)\" x=\"124.013\" y=\"536.395\">15</text>\n",
       "</g>\n",
       "<g clip-path=\"url(#clip6901)\">\n",
       "<text style=\"fill:#000000; fill-opacity:1; font-family:Arial,Helvetica Neue,Helvetica,sans-serif; font-size:48px; text-anchor:end;\" transform=\"rotate(0, 124.013, 258.925)\" x=\"124.013\" y=\"258.925\">20</text>\n",
       "</g>\n",
       "<polyline clip-path=\"url(#clip6903)\" style=\"stroke:#009af9; stroke-width:4; stroke-opacity:1; fill:none\" points=\"\n",
       "  209.52,88.4582 214.57,101.908 219.62,115.291 224.67,128.608 271.364,248.61 318.058,362.955 364.753,471.644 411.447,574.677 467.569,691.03 523.692,799.212 \n",
       "  571.143,884.303 618.594,963.554 670.139,1043.02 721.684,1115.6 769.204,1176.4 816.724,1231.35 867.67,1283.75 918.617,1329.42 977.643,1373.91 1036.67,1409.36 \n",
       "  1089.13,1433.28 1141.58,1450.06 1187.58,1458.91 1233.58,1462.26 1283.73,1459.66 1333.88,1450.54 1384.33,1434.78 1434.78,1412.42 1490.56,1380.01 1546.34,1339.53 \n",
       "  1599.41,1293.52 1652.48,1240.2 1707.66,1177.01 1762.84,1105.93 1809.29,1039.97 1855.75,968.41 1912.46,873.456 1969.17,770.159 2022.48,665.448 2075.79,553.365 \n",
       "  2161.2,358.431 2246.61,144.574 2259.75,109.983 \n",
       "  \"/>\n",
       "<polygon clip-path=\"url(#clip6901)\" points=\"\n",
       "1958.43,251.724 2249.26,251.724 2249.26,130.764 1958.43,130.764 \n",
       "  \" fill=\"#ffffff\" fill-rule=\"evenodd\" fill-opacity=\"1\"/>\n",
       "<polyline clip-path=\"url(#clip6901)\" style=\"stroke:#000000; stroke-width:4; stroke-opacity:1; fill:none\" points=\"\n",
       "  1958.43,251.724 2249.26,251.724 2249.26,130.764 1958.43,130.764 1958.43,251.724 \n",
       "  \"/>\n",
       "<polyline clip-path=\"url(#clip6901)\" style=\"stroke:#009af9; stroke-width:4; stroke-opacity:1; fill:none\" points=\"\n",
       "  1982.43,191.244 2126.43,191.244 \n",
       "  \"/>\n",
       "<g clip-path=\"url(#clip6901)\">\n",
       "<text style=\"fill:#000000; fill-opacity:1; font-family:Arial,Helvetica Neue,Helvetica,sans-serif; font-size:48px; text-anchor:start;\" transform=\"rotate(0, 2150.43, 208.744)\" x=\"2150.43\" y=\"208.744\">y1</text>\n",
       "</g>\n",
       "</svg>\n"
      ]
     },
     "execution_count": 29,
     "metadata": {},
     "output_type": "execute_result"
    }
   ],
   "source": [
    "#defining a function\n",
    "f(x) = x^2 - 2\n",
    "plot(f)\n",
    "\n",
    "#use plot(f, 0, 5) to restrict the domain 0 to 5"
   ]
  },
  {
   "cell_type": "code",
   "execution_count": 30,
   "metadata": {},
   "outputs": [
    {
     "data": {
      "image/svg+xml": [
       "<?xml version=\"1.0\" encoding=\"utf-8\"?>\n",
       "<svg xmlns=\"http://www.w3.org/2000/svg\" xmlns:xlink=\"http://www.w3.org/1999/xlink\" width=\"600\" height=\"400\" viewBox=\"0 0 2400 1600\">\n",
       "<defs>\n",
       "  <clipPath id=\"clip7100\">\n",
       "    <rect x=\"0\" y=\"0\" width=\"2000\" height=\"2000\"/>\n",
       "  </clipPath>\n",
       "</defs>\n",
       "<defs>\n",
       "  <clipPath id=\"clip7101\">\n",
       "    <rect x=\"0\" y=\"0\" width=\"2400\" height=\"1600\"/>\n",
       "  </clipPath>\n",
       "</defs>\n",
       "<polygon clip-path=\"url(#clip7101)\" points=\"\n",
       "0,1600 2400,1600 2400,0 0,0 \n",
       "  \" fill=\"#ffffff\" fill-rule=\"evenodd\" fill-opacity=\"1\"/>\n",
       "<defs>\n",
       "  <clipPath id=\"clip7102\">\n",
       "    <rect x=\"480\" y=\"0\" width=\"1681\" height=\"1600\"/>\n",
       "  </clipPath>\n",
       "</defs>\n",
       "<polygon clip-path=\"url(#clip7101)\" points=\"\n",
       "202.885,1503.47 2321.26,1503.47 2321.26,47.2441 202.885,47.2441 \n",
       "  \" fill=\"#ffffff\" fill-rule=\"evenodd\" fill-opacity=\"1\"/>\n",
       "<defs>\n",
       "  <clipPath id=\"clip7103\">\n",
       "    <rect x=\"202\" y=\"47\" width=\"2119\" height=\"1457\"/>\n",
       "  </clipPath>\n",
       "</defs>\n",
       "<polyline clip-path=\"url(#clip7103)\" style=\"stroke:#000000; stroke-width:2; stroke-opacity:0.1; fill:none\" points=\"\n",
       "  458.908,1503.47 458.908,47.2441 \n",
       "  \"/>\n",
       "<polyline clip-path=\"url(#clip7103)\" style=\"stroke:#000000; stroke-width:2; stroke-opacity:0.1; fill:none\" points=\"\n",
       "  860.86,1503.47 860.86,47.2441 \n",
       "  \"/>\n",
       "<polyline clip-path=\"url(#clip7103)\" style=\"stroke:#000000; stroke-width:2; stroke-opacity:0.1; fill:none\" points=\"\n",
       "  1262.81,1503.47 1262.81,47.2441 \n",
       "  \"/>\n",
       "<polyline clip-path=\"url(#clip7103)\" style=\"stroke:#000000; stroke-width:2; stroke-opacity:0.1; fill:none\" points=\"\n",
       "  1664.76,1503.47 1664.76,47.2441 \n",
       "  \"/>\n",
       "<polyline clip-path=\"url(#clip7103)\" style=\"stroke:#000000; stroke-width:2; stroke-opacity:0.1; fill:none\" points=\"\n",
       "  2066.72,1503.47 2066.72,47.2441 \n",
       "  \"/>\n",
       "<polyline clip-path=\"url(#clip7103)\" style=\"stroke:#000000; stroke-width:2; stroke-opacity:0.1; fill:none\" points=\"\n",
       "  202.885,1332.72 2321.26,1332.72 \n",
       "  \"/>\n",
       "<polyline clip-path=\"url(#clip7103)\" style=\"stroke:#000000; stroke-width:2; stroke-opacity:0.1; fill:none\" points=\"\n",
       "  202.885,1053.28 2321.26,1053.28 \n",
       "  \"/>\n",
       "<polyline clip-path=\"url(#clip7103)\" style=\"stroke:#000000; stroke-width:2; stroke-opacity:0.1; fill:none\" points=\"\n",
       "  202.885,773.835 2321.26,773.835 \n",
       "  \"/>\n",
       "<polyline clip-path=\"url(#clip7103)\" style=\"stroke:#000000; stroke-width:2; stroke-opacity:0.1; fill:none\" points=\"\n",
       "  202.885,494.391 2321.26,494.391 \n",
       "  \"/>\n",
       "<polyline clip-path=\"url(#clip7103)\" style=\"stroke:#000000; stroke-width:2; stroke-opacity:0.1; fill:none\" points=\"\n",
       "  202.885,214.947 2321.26,214.947 \n",
       "  \"/>\n",
       "<polyline clip-path=\"url(#clip7101)\" style=\"stroke:#000000; stroke-width:4; stroke-opacity:1; fill:none\" points=\"\n",
       "  202.885,1503.47 2321.26,1503.47 \n",
       "  \"/>\n",
       "<polyline clip-path=\"url(#clip7101)\" style=\"stroke:#000000; stroke-width:4; stroke-opacity:1; fill:none\" points=\"\n",
       "  202.885,1503.47 202.885,47.2441 \n",
       "  \"/>\n",
       "<polyline clip-path=\"url(#clip7101)\" style=\"stroke:#000000; stroke-width:4; stroke-opacity:1; fill:none\" points=\"\n",
       "  458.908,1503.47 458.908,1481.63 \n",
       "  \"/>\n",
       "<polyline clip-path=\"url(#clip7101)\" style=\"stroke:#000000; stroke-width:4; stroke-opacity:1; fill:none\" points=\"\n",
       "  860.86,1503.47 860.86,1481.63 \n",
       "  \"/>\n",
       "<polyline clip-path=\"url(#clip7101)\" style=\"stroke:#000000; stroke-width:4; stroke-opacity:1; fill:none\" points=\"\n",
       "  1262.81,1503.47 1262.81,1481.63 \n",
       "  \"/>\n",
       "<polyline clip-path=\"url(#clip7101)\" style=\"stroke:#000000; stroke-width:4; stroke-opacity:1; fill:none\" points=\"\n",
       "  1664.76,1503.47 1664.76,1481.63 \n",
       "  \"/>\n",
       "<polyline clip-path=\"url(#clip7101)\" style=\"stroke:#000000; stroke-width:4; stroke-opacity:1; fill:none\" points=\"\n",
       "  2066.72,1503.47 2066.72,1481.63 \n",
       "  \"/>\n",
       "<polyline clip-path=\"url(#clip7101)\" style=\"stroke:#000000; stroke-width:4; stroke-opacity:1; fill:none\" points=\"\n",
       "  202.885,1332.72 234.661,1332.72 \n",
       "  \"/>\n",
       "<polyline clip-path=\"url(#clip7101)\" style=\"stroke:#000000; stroke-width:4; stroke-opacity:1; fill:none\" points=\"\n",
       "  202.885,1053.28 234.661,1053.28 \n",
       "  \"/>\n",
       "<polyline clip-path=\"url(#clip7101)\" style=\"stroke:#000000; stroke-width:4; stroke-opacity:1; fill:none\" points=\"\n",
       "  202.885,773.835 234.661,773.835 \n",
       "  \"/>\n",
       "<polyline clip-path=\"url(#clip7101)\" style=\"stroke:#000000; stroke-width:4; stroke-opacity:1; fill:none\" points=\"\n",
       "  202.885,494.391 234.661,494.391 \n",
       "  \"/>\n",
       "<polyline clip-path=\"url(#clip7101)\" style=\"stroke:#000000; stroke-width:4; stroke-opacity:1; fill:none\" points=\"\n",
       "  202.885,214.947 234.661,214.947 \n",
       "  \"/>\n",
       "<g clip-path=\"url(#clip7101)\">\n",
       "<text style=\"fill:#000000; fill-opacity:1; font-family:Arial,Helvetica Neue,Helvetica,sans-serif; font-size:48px; text-anchor:middle;\" transform=\"rotate(0, 458.908, 1557.47)\" x=\"458.908\" y=\"1557.47\">-4</text>\n",
       "</g>\n",
       "<g clip-path=\"url(#clip7101)\">\n",
       "<text style=\"fill:#000000; fill-opacity:1; font-family:Arial,Helvetica Neue,Helvetica,sans-serif; font-size:48px; text-anchor:middle;\" transform=\"rotate(0, 860.86, 1557.47)\" x=\"860.86\" y=\"1557.47\">-2</text>\n",
       "</g>\n",
       "<g clip-path=\"url(#clip7101)\">\n",
       "<text style=\"fill:#000000; fill-opacity:1; font-family:Arial,Helvetica Neue,Helvetica,sans-serif; font-size:48px; text-anchor:middle;\" transform=\"rotate(0, 1262.81, 1557.47)\" x=\"1262.81\" y=\"1557.47\">0</text>\n",
       "</g>\n",
       "<g clip-path=\"url(#clip7101)\">\n",
       "<text style=\"fill:#000000; fill-opacity:1; font-family:Arial,Helvetica Neue,Helvetica,sans-serif; font-size:48px; text-anchor:middle;\" transform=\"rotate(0, 1664.76, 1557.47)\" x=\"1664.76\" y=\"1557.47\">2</text>\n",
       "</g>\n",
       "<g clip-path=\"url(#clip7101)\">\n",
       "<text style=\"fill:#000000; fill-opacity:1; font-family:Arial,Helvetica Neue,Helvetica,sans-serif; font-size:48px; text-anchor:middle;\" transform=\"rotate(0, 2066.72, 1557.47)\" x=\"2066.72\" y=\"1557.47\">4</text>\n",
       "</g>\n",
       "<g clip-path=\"url(#clip7101)\">\n",
       "<text style=\"fill:#000000; fill-opacity:1; font-family:Arial,Helvetica Neue,Helvetica,sans-serif; font-size:48px; text-anchor:end;\" transform=\"rotate(0, 178.885, 1350.22)\" x=\"178.885\" y=\"1350.22\">-100</text>\n",
       "</g>\n",
       "<g clip-path=\"url(#clip7101)\">\n",
       "<text style=\"fill:#000000; fill-opacity:1; font-family:Arial,Helvetica Neue,Helvetica,sans-serif; font-size:48px; text-anchor:end;\" transform=\"rotate(0, 178.885, 1070.78)\" x=\"178.885\" y=\"1070.78\">-50</text>\n",
       "</g>\n",
       "<g clip-path=\"url(#clip7101)\">\n",
       "<text style=\"fill:#000000; fill-opacity:1; font-family:Arial,Helvetica Neue,Helvetica,sans-serif; font-size:48px; text-anchor:end;\" transform=\"rotate(0, 178.885, 791.335)\" x=\"178.885\" y=\"791.335\">0</text>\n",
       "</g>\n",
       "<g clip-path=\"url(#clip7101)\">\n",
       "<text style=\"fill:#000000; fill-opacity:1; font-family:Arial,Helvetica Neue,Helvetica,sans-serif; font-size:48px; text-anchor:end;\" transform=\"rotate(0, 178.885, 511.891)\" x=\"178.885\" y=\"511.891\">50</text>\n",
       "</g>\n",
       "<g clip-path=\"url(#clip7101)\">\n",
       "<text style=\"fill:#000000; fill-opacity:1; font-family:Arial,Helvetica Neue,Helvetica,sans-serif; font-size:48px; text-anchor:end;\" transform=\"rotate(0, 178.885, 232.447)\" x=\"178.885\" y=\"232.447\">100</text>\n",
       "</g>\n",
       "<polyline clip-path=\"url(#clip7103)\" style=\"stroke:#009af9; stroke-width:4; stroke-opacity:1; fill:none\" points=\"\n",
       "  262.839,646.651 267.746,648.006 272.653,649.354 277.559,650.695 322.929,662.781 368.299,674.296 413.669,685.243 459.039,695.619 513.57,707.337 568.1,718.232 \n",
       "  614.206,726.802 660.311,734.783 710.394,742.787 760.477,750.096 806.649,756.22 852.821,761.754 902.322,767.031 951.824,771.63 1009.18,776.111 1066.53,779.681 \n",
       "  1117.5,782.09 1168.46,783.781 1213.16,784.671 1257.85,785.009 1306.58,784.747 1355.31,783.828 1404.33,782.241 1453.35,779.989 1507.54,776.725 1561.74,772.648 \n",
       "  1613.3,768.014 1664.87,762.645 1718.49,756.281 1772.1,749.122 1817.24,742.479 1862.37,735.273 1917.48,725.71 1972.58,715.306 2024.38,704.761 2076.18,693.473 \n",
       "  2159.16,673.841 2242.15,652.303 2254.92,648.819 \n",
       "  \"/>\n",
       "<polyline clip-path=\"url(#clip7103)\" style=\"stroke:#e26f46; stroke-width:4; stroke-opacity:1; fill:none\" points=\"\n",
       "  262.839,1462.26 267.746,1452.18 272.653,1442.19 277.559,1432.3 322.929,1345.46 368.299,1266.61 413.669,1195.37 459.039,1131.35 513.57,1063.41 568.1,1004.67 \n",
       "  614.206,961.696 660.311,924.414 710.394,889.898 760.477,861.106 806.649,839.186 852.821,821.282 902.322,806.088 951.824,794.542 1009.18,785.068 1066.53,779.041 \n",
       "  1168.46,774.413 1257.85,773.835 1355.31,773.29 1453.35,769.072 1507.54,763.743 1561.74,755.444 1613.3,744.191 1664.87,729.088 1718.49,708.692 1772.1,682.886 \n",
       "  1817.24,656.5 1862.37,625.449 1917.48,580.66 1972.58,527.661 2024.38,469.734 2076.18,403.367 2117.67,343.729 2159.16,278.01 2200.66,205.917 2242.15,127.154 \n",
       "  2248.53,114.422 2254.92,101.524 2261.31,88.4582 \n",
       "  \"/>\n",
       "<polygon clip-path=\"url(#clip7101)\" points=\"\n",
       "1958.43,312.204 2249.26,312.204 2249.26,130.764 1958.43,130.764 \n",
       "  \" fill=\"#ffffff\" fill-rule=\"evenodd\" fill-opacity=\"1\"/>\n",
       "<polyline clip-path=\"url(#clip7101)\" style=\"stroke:#000000; stroke-width:4; stroke-opacity:1; fill:none\" points=\"\n",
       "  1958.43,312.204 2249.26,312.204 2249.26,130.764 1958.43,130.764 1958.43,312.204 \n",
       "  \"/>\n",
       "<polyline clip-path=\"url(#clip7101)\" style=\"stroke:#009af9; stroke-width:4; stroke-opacity:1; fill:none\" points=\"\n",
       "  1982.43,191.244 2126.43,191.244 \n",
       "  \"/>\n",
       "<g clip-path=\"url(#clip7101)\">\n",
       "<text style=\"fill:#000000; fill-opacity:1; font-family:Arial,Helvetica Neue,Helvetica,sans-serif; font-size:48px; text-anchor:start;\" transform=\"rotate(0, 2150.43, 208.744)\" x=\"2150.43\" y=\"208.744\">y1</text>\n",
       "</g>\n",
       "<polyline clip-path=\"url(#clip7101)\" style=\"stroke:#e26f46; stroke-width:4; stroke-opacity:1; fill:none\" points=\"\n",
       "  1982.43,251.724 2126.43,251.724 \n",
       "  \"/>\n",
       "<g clip-path=\"url(#clip7101)\">\n",
       "<text style=\"fill:#000000; fill-opacity:1; font-family:Arial,Helvetica Neue,Helvetica,sans-serif; font-size:48px; text-anchor:start;\" transform=\"rotate(0, 2150.43, 269.224)\" x=\"2150.43\" y=\"269.224\">y2</text>\n",
       "</g>\n",
       "</svg>\n"
      ]
     },
     "execution_count": 30,
     "metadata": {},
     "output_type": "execute_result"
    }
   ],
   "source": [
    "# defining two functions\n",
    "f(x) = x^2 - 2\n",
    "g(x) = x^3\n",
    "plot([f,g])"
   ]
  },
  {
   "cell_type": "code",
   "execution_count": 34,
   "metadata": {},
   "outputs": [
    {
     "data": {
      "text/plain": [
       "df (generic function with 1 method)"
      ]
     },
     "execution_count": 34,
     "metadata": {},
     "output_type": "execute_result"
    }
   ],
   "source": [
    "# defining the derivative function\n",
    "function df(f, x, ϵ)\n",
    "    return(f(x+ϵ)-f(x))/ϵ\n",
    "end"
   ]
  },
  {
   "cell_type": "code",
   "execution_count": 36,
   "metadata": {},
   "outputs": [
    {
     "data": {
      "text/plain": [
       "4.0001000000078335"
      ]
     },
     "execution_count": 36,
     "metadata": {},
     "output_type": "execute_result"
    }
   ],
   "source": [
    "# creating a function to use the define function on\n",
    "g(x) = x^2 - 4\n",
    "\n",
    "#applying the function\n",
    "#use a really small epsilon\n",
    "df(g, 2.0, 0.0001)"
   ]
  },
  {
   "cell_type": "code",
   "execution_count": 37,
   "metadata": {},
   "outputs": [
    {
     "data": {
      "text/plain": [
       "Newtons_Method (generic function with 1 method)"
      ]
     },
     "execution_count": 37,
     "metadata": {},
     "output_type": "execute_result"
    }
   ],
   "source": [
    "# define the newton's method in a function\n",
    "# remember that when the value is really small, then stop because they're jumbling up\n",
    "function Newtons_Method(f, x_guess, ϵ)\n",
    "    x_old = x_guess\n",
    "    x_new = x_guess - f(x_guess)/df(f, x_guess, ϵ)\n",
    "    \n",
    "    while abs(x_new - x_old) > ϵ\n",
    "        x_old, x_new = x_new, x_new - f(x_new)/df(f, x_new, ϵ)\n",
    "    end\n",
    "    \n",
    "    return x_new\n",
    "end\n",
    "    "
   ]
  },
  {
   "cell_type": "code",
   "execution_count": 38,
   "metadata": {},
   "outputs": [
    {
     "data": {
      "text/plain": [
       "2.0000000002582445"
      ]
     },
     "execution_count": 38,
     "metadata": {},
     "output_type": "execute_result"
    }
   ],
   "source": [
    "Newtons_Method(g, 10.0, 0.0001)"
   ]
  },
  {
   "cell_type": "code",
   "execution_count": 39,
   "metadata": {},
   "outputs": [
    {
     "data": {
      "text/plain": [
       "1.4142135623747147"
      ]
     },
     "execution_count": 39,
     "metadata": {},
     "output_type": "execute_result"
    }
   ],
   "source": [
    "#using newtons method to find square root of 2\n",
    "h(x) = x^2 - 2\n",
    "Newtons_Method(h, 10.0, 0.0001)"
   ]
  },
  {
   "cell_type": "code",
   "execution_count": null,
   "metadata": {},
   "outputs": [],
   "source": []
  }
 ],
 "metadata": {
  "kernelspec": {
   "display_name": "Julia 1.0.0",
   "language": "julia",
   "name": "julia-1.0"
  },
  "language_info": {
   "file_extension": ".jl",
   "mimetype": "application/julia",
   "name": "julia",
   "version": "1.0.3"
  }
 },
 "nbformat": 4,
 "nbformat_minor": 2
}
