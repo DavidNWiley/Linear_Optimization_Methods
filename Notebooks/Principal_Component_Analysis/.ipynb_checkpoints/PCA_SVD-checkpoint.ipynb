{
 "cells": [
  {
   "cell_type": "code",
   "execution_count": 2,
   "metadata": {},
   "outputs": [],
   "source": [
    "using LinearAlgebra, CSV, Plots"
   ]
  },
  {
   "cell_type": "code",
   "execution_count": 4,
   "metadata": {},
   "outputs": [
    {
     "data": {
      "text/html": [
       "<table class=\"data-frame\"><thead><tr><th></th><th>Column1</th><th>England</th><th>Wales</th><th>Scotland</th><th>Northern Ireland</th></tr><tr><th></th><th>String⍰</th><th>Int64⍰</th><th>Int64⍰</th><th>Int64⍰</th><th>Int64⍰</th></tr></thead><tbody><p>17 rows × 5 columns</p><tr><th>1</th><td>Cheese</td><td>105</td><td>103</td><td>103</td><td>66</td></tr><tr><th>2</th><td>Carcass meat</td><td>245</td><td>227</td><td>242</td><td>267</td></tr><tr><th>3</th><td>Other meat</td><td>685</td><td>803</td><td>750</td><td>586</td></tr><tr><th>4</th><td>Fish</td><td>147</td><td>160</td><td>122</td><td>93</td></tr><tr><th>5</th><td>Fats and oils</td><td>193</td><td>235</td><td>184</td><td>209</td></tr><tr><th>6</th><td>Sugars</td><td>156</td><td>175</td><td>147</td><td>139</td></tr><tr><th>7</th><td>Fresh potatoes</td><td>720</td><td>874</td><td>566</td><td>1033</td></tr><tr><th>8</th><td>Fresh Veg</td><td>253</td><td>265</td><td>171</td><td>143</td></tr><tr><th>9</th><td>Other veg</td><td>488</td><td>570</td><td>418</td><td>355</td></tr><tr><th>10</th><td>Processed Potatoes</td><td>198</td><td>203</td><td>220</td><td>187</td></tr><tr><th>11</th><td>Processed Veg</td><td>360</td><td>365</td><td>337</td><td>334</td></tr><tr><th>12</th><td>Fresh fruit</td><td>1102</td><td>1137</td><td>957</td><td>674</td></tr><tr><th>13</th><td>Cereals</td><td>1472</td><td>1582</td><td>1462</td><td>1494</td></tr><tr><th>14</th><td>Beverages</td><td>57</td><td>73</td><td>53</td><td>47</td></tr><tr><th>15</th><td>Soft drinks</td><td>1374</td><td>1256</td><td>1572</td><td>1506</td></tr><tr><th>16</th><td>Alcoholic drinks</td><td>375</td><td>475</td><td>458</td><td>135</td></tr><tr><th>17</th><td>Confectionery</td><td>54</td><td>64</td><td>62</td><td>41</td></tr></tbody></table>"
      ],
      "text/latex": [
       "\\begin{tabular}{r|ccccc}\n",
       "\t& Column1 & England & Wales & Scotland & Northern Ireland\\\\\n",
       "\t\\hline\n",
       "\t& String⍰ & Int64⍰ & Int64⍰ & Int64⍰ & Int64⍰\\\\\n",
       "\t\\hline\n",
       "\t1 & Cheese & 105 & 103 & 103 & 66 \\\\\n",
       "\t2 & Carcass meat & 245 & 227 & 242 & 267 \\\\\n",
       "\t3 & Other meat & 685 & 803 & 750 & 586 \\\\\n",
       "\t4 & Fish & 147 & 160 & 122 & 93 \\\\\n",
       "\t5 & Fats and oils & 193 & 235 & 184 & 209 \\\\\n",
       "\t6 & Sugars & 156 & 175 & 147 & 139 \\\\\n",
       "\t7 & Fresh potatoes & 720 & 874 & 566 & 1033 \\\\\n",
       "\t8 & Fresh Veg & 253 & 265 & 171 & 143 \\\\\n",
       "\t9 & Other veg & 488 & 570 & 418 & 355 \\\\\n",
       "\t10 & Processed Potatoes & 198 & 203 & 220 & 187 \\\\\n",
       "\t11 & Processed Veg & 360 & 365 & 337 & 334 \\\\\n",
       "\t12 & Fresh fruit & 1102 & 1137 & 957 & 674 \\\\\n",
       "\t13 & Cereals & 1472 & 1582 & 1462 & 1494 \\\\\n",
       "\t14 & Beverages & 57 & 73 & 53 & 47 \\\\\n",
       "\t15 & Soft drinks & 1374 & 1256 & 1572 & 1506 \\\\\n",
       "\t16 & Alcoholic drinks & 375 & 475 & 458 & 135 \\\\\n",
       "\t17 & Confectionery & 54 & 64 & 62 & 41 \\\\\n",
       "\\end{tabular}\n"
      ],
      "text/plain": [
       "17×5 DataFrames.DataFrame\n",
       "│ Row │ Column1            │ England │ Wales  │ Scotland │ Northern Ireland │\n",
       "│     │ \u001b[90mString⍰\u001b[39m            │ \u001b[90mInt64⍰\u001b[39m  │ \u001b[90mInt64⍰\u001b[39m │ \u001b[90mInt64⍰\u001b[39m   │ \u001b[90mInt64⍰\u001b[39m           │\n",
       "├─────┼────────────────────┼─────────┼────────┼──────────┼──────────────────┤\n",
       "│ 1   │ Cheese             │ 105     │ 103    │ 103      │ 66               │\n",
       "│ 2   │ Carcass meat       │ 245     │ 227    │ 242      │ 267              │\n",
       "│ 3   │ Other meat         │ 685     │ 803    │ 750      │ 586              │\n",
       "│ 4   │ Fish               │ 147     │ 160    │ 122      │ 93               │\n",
       "│ 5   │ Fats and oils      │ 193     │ 235    │ 184      │ 209              │\n",
       "│ 6   │ Sugars             │ 156     │ 175    │ 147      │ 139              │\n",
       "│ 7   │ Fresh potatoes     │ 720     │ 874    │ 566      │ 1033             │\n",
       "│ 8   │ Fresh Veg          │ 253     │ 265    │ 171      │ 143              │\n",
       "│ 9   │ Other veg          │ 488     │ 570    │ 418      │ 355              │\n",
       "│ 10  │ Processed Potatoes │ 198     │ 203    │ 220      │ 187              │\n",
       "│ 11  │ Processed Veg      │ 360     │ 365    │ 337      │ 334              │\n",
       "│ 12  │ Fresh fruit        │ 1102    │ 1137   │ 957      │ 674              │\n",
       "│ 13  │ Cereals            │ 1472    │ 1582   │ 1462     │ 1494             │\n",
       "│ 14  │ Beverages          │ 57      │ 73     │ 53       │ 47               │\n",
       "│ 15  │ Soft drinks        │ 1374    │ 1256   │ 1572     │ 1506             │\n",
       "│ 16  │ Alcoholic drinks   │ 375     │ 475    │ 458      │ 135              │\n",
       "│ 17  │ Confectionery      │ 54      │ 64     │ 62       │ 41               │"
      ]
     },
     "execution_count": 4,
     "metadata": {},
     "output_type": "execute_result"
    }
   ],
   "source": [
    "data = CSV.read(\"DEFRA_Data.csv\")"
   ]
  },
  {
   "cell_type": "code",
   "execution_count": 5,
   "metadata": {},
   "outputs": [
    {
     "data": {
      "text/plain": [
       "17×4 Array{Float64,2}:\n",
       "  105.0   103.0   103.0    66.0\n",
       "  245.0   227.0   242.0   267.0\n",
       "  685.0   803.0   750.0   586.0\n",
       "  147.0   160.0   122.0    93.0\n",
       "  193.0   235.0   184.0   209.0\n",
       "  156.0   175.0   147.0   139.0\n",
       "  720.0   874.0   566.0  1033.0\n",
       "  253.0   265.0   171.0   143.0\n",
       "  488.0   570.0   418.0   355.0\n",
       "  198.0   203.0   220.0   187.0\n",
       "  360.0   365.0   337.0   334.0\n",
       " 1102.0  1137.0   957.0   674.0\n",
       " 1472.0  1582.0  1462.0  1494.0\n",
       "   57.0    73.0    53.0    47.0\n",
       " 1374.0  1256.0  1572.0  1506.0\n",
       "  375.0   475.0   458.0   135.0\n",
       "   54.0    64.0    62.0    41.0"
      ]
     },
     "execution_count": 5,
     "metadata": {},
     "output_type": "execute_result"
    }
   ],
   "source": [
    "# Make Data Matrix: A0\n",
    "A_0 = zeros(17, 4)\n",
    "A_0[:,1] = copy(data[:, 2])\n",
    "A_0[:,2] = copy(data[:, 3])\n",
    "A_0[:,3] = copy(data[:, 4])\n",
    "A_0[:,4] = copy(data[:, 5])\n",
    "A_0"
   ]
  },
  {
   "cell_type": "code",
   "execution_count": 6,
   "metadata": {},
   "outputs": [
    {
     "data": {
      "text/plain": [
       "17×17 Array{Float64,2}:\n",
       "   355.583    -268.417   1466.0    …   -1009.67     2793.75    174.917 \n",
       "  -268.417     272.25   -1506.0         1460.33    -2438.25   -163.75  \n",
       "  1466.0     -1506.0     8728.67       -6191.33    14050.7     960.667 \n",
       "   473.5      -443.5     2213.67       -3371.33     3748.17    238.167 \n",
       "   -54.4167   -129.75     586.0        -2407.67      103.75     26.25  \n",
       "   189.25     -229.083   1162.33   …   -1965.67     1711.08    115.917 \n",
       " -2947.42     1499.25   -9799.33       -7979.0    -22680.6   -1384.08  \n",
       "   831.667    -781.667   3585.33       -7544.0      6076.33    373.0   \n",
       "  1287.42    -1387.25    6944.67      -11559.7     10861.9     713.417 \n",
       "   182.333    -134.0      924.333        488.667    1731.33    116.333 \n",
       "   192.333    -194.0      864.333  …   -2081.33     1401.33     86.3333\n",
       "  3709.5     -3158.83   16125.0       -20274.0     28839.5    1808.83  \n",
       "    84.5      -498.833   2530.0        -6174.0      2209.5     193.833 \n",
       "   129.167    -165.5      858.667      -1368.67     1232.17     85.1667\n",
       " -1009.67     1460.33   -6191.33       19772.0     -8008.33   -525.667 \n",
       "  2793.75    -2438.25   14050.7    …   -8008.33    24558.9    1618.42  \n",
       "   174.917    -163.75     960.667       -525.667    1618.42    108.917 "
      ]
     },
     "execution_count": 6,
     "metadata": {},
     "output_type": "execute_result"
    }
   ],
   "source": [
    "# Center the data in A_0. This forms the matrix A\n",
    "A = copy(A_0)\n",
    "for i = 1:17\n",
    "    \n",
    "    # Calculate the mean of the i-th row\n",
    "    μ = sum(A_0[i, :])/4\n",
    "    \n",
    "    # Subtract the mean from each entry in the i-th row\n",
    "    A[i,1] -= μ\n",
    "    A[i,2] -= μ\n",
    "    A[i,3] -= μ\n",
    "    A[i,4] -= μ\n",
    "end\n",
    "\n",
    "# Form the sample covariance matrix S\n",
    "S = A*A'/(3)"
   ]
  },
  {
   "cell_type": "code",
   "execution_count": 10,
   "metadata": {},
   "outputs": [
    {
     "data": {
      "text/plain": [
       "SVD{Float64,Float64,Array{Float64,2}}([-0.0569554 -0.0160129 0.0239429 -0.368186; 0.0479276 -0.0139158 0.0636711 -0.62125; … ; -0.463968 -0.113537 -0.498583 0.310074; -0.0296502 -0.00594992 -0.0523216 -0.000728346], [561.445, 368.49, 127.957, 3.47505e-14], [-0.25825 -0.428411 -0.16363 0.850292; 0.006874 0.609642 -0.776362 0.159847; 0.826595 -0.441362 -0.347112 -0.0381213; -0.5 -0.5 -0.5 -0.5])"
      ]
     },
     "execution_count": 10,
     "metadata": {},
     "output_type": "execute_result"
    }
   ],
   "source": [
    "U, Σ, V = svd(A)"
   ]
  },
  {
   "cell_type": "code",
   "execution_count": null,
   "metadata": {},
   "outputs": [],
   "source": [
    "foods = "
   ]
  },
  {
   "cell_type": "code",
   "execution_count": 11,
   "metadata": {
    "scrolled": false
   },
   "outputs": [
    {
     "data": {
      "image/svg+xml": [
       "<?xml version=\"1.0\" encoding=\"utf-8\"?>\n",
       "<svg xmlns=\"http://www.w3.org/2000/svg\" xmlns:xlink=\"http://www.w3.org/1999/xlink\" width=\"600\" height=\"400\" viewBox=\"0 0 2400 1600\">\n",
       "<defs>\n",
       "  <clipPath id=\"clip1000\">\n",
       "    <rect x=\"0\" y=\"0\" width=\"2000\" height=\"2000\"/>\n",
       "  </clipPath>\n",
       "</defs>\n",
       "<defs>\n",
       "  <clipPath id=\"clip1001\">\n",
       "    <rect x=\"0\" y=\"0\" width=\"2400\" height=\"1600\"/>\n",
       "  </clipPath>\n",
       "</defs>\n",
       "<polygon clip-path=\"url(#clip1001)\" points=\"\n",
       "0,1600 2400,1600 2400,0 0,0 \n",
       "  \" fill=\"#ffffff\" fill-rule=\"evenodd\" fill-opacity=\"1\"/>\n",
       "<defs>\n",
       "  <clipPath id=\"clip1002\">\n",
       "    <rect x=\"480\" y=\"0\" width=\"1681\" height=\"1600\"/>\n",
       "  </clipPath>\n",
       "</defs>\n",
       "<polygon clip-path=\"url(#clip1001)\" points=\"\n",
       "237.767,1440.48 2321.26,1440.48 2321.26,47.2441 237.767,47.2441 \n",
       "  \" fill=\"#ffffff\" fill-rule=\"evenodd\" fill-opacity=\"1\"/>\n",
       "<defs>\n",
       "  <clipPath id=\"clip1003\">\n",
       "    <rect x=\"237\" y=\"47\" width=\"2084\" height=\"1394\"/>\n",
       "  </clipPath>\n",
       "</defs>\n",
       "<polyline clip-path=\"url(#clip1003)\" style=\"stroke:#000000; stroke-width:2; stroke-opacity:0.1; fill:none\" points=\"\n",
       "  296.734,1440.48 296.734,47.2441 \n",
       "  \"/>\n",
       "<polyline clip-path=\"url(#clip1003)\" style=\"stroke:#000000; stroke-width:2; stroke-opacity:0.1; fill:none\" points=\"\n",
       "  951.92,1440.48 951.92,47.2441 \n",
       "  \"/>\n",
       "<polyline clip-path=\"url(#clip1003)\" style=\"stroke:#000000; stroke-width:2; stroke-opacity:0.1; fill:none\" points=\"\n",
       "  1607.11,1440.48 1607.11,47.2441 \n",
       "  \"/>\n",
       "<polyline clip-path=\"url(#clip1003)\" style=\"stroke:#000000; stroke-width:2; stroke-opacity:0.1; fill:none\" points=\"\n",
       "  2262.29,1440.48 2262.29,47.2441 \n",
       "  \"/>\n",
       "<polyline clip-path=\"url(#clip1003)\" style=\"stroke:#000000; stroke-width:2; stroke-opacity:0.1; fill:none\" points=\"\n",
       "  237.767,1401.05 2321.26,1401.05 \n",
       "  \"/>\n",
       "<polyline clip-path=\"url(#clip1003)\" style=\"stroke:#000000; stroke-width:2; stroke-opacity:0.1; fill:none\" points=\"\n",
       "  237.767,1166.95 2321.26,1166.95 \n",
       "  \"/>\n",
       "<polyline clip-path=\"url(#clip1003)\" style=\"stroke:#000000; stroke-width:2; stroke-opacity:0.1; fill:none\" points=\"\n",
       "  237.767,932.839 2321.26,932.839 \n",
       "  \"/>\n",
       "<polyline clip-path=\"url(#clip1003)\" style=\"stroke:#000000; stroke-width:2; stroke-opacity:0.1; fill:none\" points=\"\n",
       "  237.767,698.733 2321.26,698.733 \n",
       "  \"/>\n",
       "<polyline clip-path=\"url(#clip1003)\" style=\"stroke:#000000; stroke-width:2; stroke-opacity:0.1; fill:none\" points=\"\n",
       "  237.767,464.627 2321.26,464.627 \n",
       "  \"/>\n",
       "<polyline clip-path=\"url(#clip1003)\" style=\"stroke:#000000; stroke-width:2; stroke-opacity:0.1; fill:none\" points=\"\n",
       "  237.767,230.521 2321.26,230.521 \n",
       "  \"/>\n",
       "<polyline clip-path=\"url(#clip1001)\" style=\"stroke:#000000; stroke-width:4; stroke-opacity:1; fill:none\" points=\"\n",
       "  237.767,1440.48 2321.26,1440.48 \n",
       "  \"/>\n",
       "<polyline clip-path=\"url(#clip1001)\" style=\"stroke:#000000; stroke-width:4; stroke-opacity:1; fill:none\" points=\"\n",
       "  237.767,1440.48 237.767,47.2441 \n",
       "  \"/>\n",
       "<polyline clip-path=\"url(#clip1001)\" style=\"stroke:#000000; stroke-width:4; stroke-opacity:1; fill:none\" points=\"\n",
       "  296.734,1440.48 296.734,1419.58 \n",
       "  \"/>\n",
       "<polyline clip-path=\"url(#clip1001)\" style=\"stroke:#000000; stroke-width:4; stroke-opacity:1; fill:none\" points=\"\n",
       "  951.92,1440.48 951.92,1419.58 \n",
       "  \"/>\n",
       "<polyline clip-path=\"url(#clip1001)\" style=\"stroke:#000000; stroke-width:4; stroke-opacity:1; fill:none\" points=\"\n",
       "  1607.11,1440.48 1607.11,1419.58 \n",
       "  \"/>\n",
       "<polyline clip-path=\"url(#clip1001)\" style=\"stroke:#000000; stroke-width:4; stroke-opacity:1; fill:none\" points=\"\n",
       "  2262.29,1440.48 2262.29,1419.58 \n",
       "  \"/>\n",
       "<polyline clip-path=\"url(#clip1001)\" style=\"stroke:#000000; stroke-width:4; stroke-opacity:1; fill:none\" points=\"\n",
       "  237.767,1401.05 269.02,1401.05 \n",
       "  \"/>\n",
       "<polyline clip-path=\"url(#clip1001)\" style=\"stroke:#000000; stroke-width:4; stroke-opacity:1; fill:none\" points=\"\n",
       "  237.767,1166.95 269.02,1166.95 \n",
       "  \"/>\n",
       "<polyline clip-path=\"url(#clip1001)\" style=\"stroke:#000000; stroke-width:4; stroke-opacity:1; fill:none\" points=\"\n",
       "  237.767,932.839 269.02,932.839 \n",
       "  \"/>\n",
       "<polyline clip-path=\"url(#clip1001)\" style=\"stroke:#000000; stroke-width:4; stroke-opacity:1; fill:none\" points=\"\n",
       "  237.767,698.733 269.02,698.733 \n",
       "  \"/>\n",
       "<polyline clip-path=\"url(#clip1001)\" style=\"stroke:#000000; stroke-width:4; stroke-opacity:1; fill:none\" points=\"\n",
       "  237.767,464.627 269.02,464.627 \n",
       "  \"/>\n",
       "<polyline clip-path=\"url(#clip1001)\" style=\"stroke:#000000; stroke-width:4; stroke-opacity:1; fill:none\" points=\"\n",
       "  237.767,230.521 269.02,230.521 \n",
       "  \"/>\n",
       "<g clip-path=\"url(#clip1001)\">\n",
       "<text style=\"fill:#000000; fill-opacity:1; font-family:Arial,Helvetica Neue,Helvetica,sans-serif; font-size:48px; text-anchor:middle;\" transform=\"rotate(0, 296.734, 1494.48)\" x=\"296.734\" y=\"1494.48\">1</text>\n",
       "</g>\n",
       "<g clip-path=\"url(#clip1001)\">\n",
       "<text style=\"fill:#000000; fill-opacity:1; font-family:Arial,Helvetica Neue,Helvetica,sans-serif; font-size:48px; text-anchor:middle;\" transform=\"rotate(0, 951.92, 1494.48)\" x=\"951.92\" y=\"1494.48\">2</text>\n",
       "</g>\n",
       "<g clip-path=\"url(#clip1001)\">\n",
       "<text style=\"fill:#000000; fill-opacity:1; font-family:Arial,Helvetica Neue,Helvetica,sans-serif; font-size:48px; text-anchor:middle;\" transform=\"rotate(0, 1607.11, 1494.48)\" x=\"1607.11\" y=\"1494.48\">3</text>\n",
       "</g>\n",
       "<g clip-path=\"url(#clip1001)\">\n",
       "<text style=\"fill:#000000; fill-opacity:1; font-family:Arial,Helvetica Neue,Helvetica,sans-serif; font-size:48px; text-anchor:middle;\" transform=\"rotate(0, 2262.29, 1494.48)\" x=\"2262.29\" y=\"1494.48\">4</text>\n",
       "</g>\n",
       "<g clip-path=\"url(#clip1001)\">\n",
       "<text style=\"fill:#000000; fill-opacity:1; font-family:Arial,Helvetica Neue,Helvetica,sans-serif; font-size:48px; text-anchor:end;\" transform=\"rotate(0, 213.767, 1418.55)\" x=\"213.767\" y=\"1418.55\">0</text>\n",
       "</g>\n",
       "<g clip-path=\"url(#clip1001)\">\n",
       "<text style=\"fill:#000000; fill-opacity:1; font-family:Arial,Helvetica Neue,Helvetica,sans-serif; font-size:48px; text-anchor:end;\" transform=\"rotate(0, 213.767, 1184.45)\" x=\"213.767\" y=\"1184.45\">100</text>\n",
       "</g>\n",
       "<g clip-path=\"url(#clip1001)\">\n",
       "<text style=\"fill:#000000; fill-opacity:1; font-family:Arial,Helvetica Neue,Helvetica,sans-serif; font-size:48px; text-anchor:end;\" transform=\"rotate(0, 213.767, 950.339)\" x=\"213.767\" y=\"950.339\">200</text>\n",
       "</g>\n",
       "<g clip-path=\"url(#clip1001)\">\n",
       "<text style=\"fill:#000000; fill-opacity:1; font-family:Arial,Helvetica Neue,Helvetica,sans-serif; font-size:48px; text-anchor:end;\" transform=\"rotate(0, 213.767, 716.233)\" x=\"213.767\" y=\"716.233\">300</text>\n",
       "</g>\n",
       "<g clip-path=\"url(#clip1001)\">\n",
       "<text style=\"fill:#000000; fill-opacity:1; font-family:Arial,Helvetica Neue,Helvetica,sans-serif; font-size:48px; text-anchor:end;\" transform=\"rotate(0, 213.767, 482.127)\" x=\"213.767\" y=\"482.127\">400</text>\n",
       "</g>\n",
       "<g clip-path=\"url(#clip1001)\">\n",
       "<text style=\"fill:#000000; fill-opacity:1; font-family:Arial,Helvetica Neue,Helvetica,sans-serif; font-size:48px; text-anchor:end;\" transform=\"rotate(0, 213.767, 248.021)\" x=\"213.767\" y=\"248.021\">500</text>\n",
       "</g>\n",
       "<g clip-path=\"url(#clip1001)\">\n",
       "<text style=\"fill:#000000; fill-opacity:1; font-family:Arial,Helvetica Neue,Helvetica,sans-serif; font-size:66px; text-anchor:middle;\" transform=\"rotate(0, 1279.51, 1590.4)\" x=\"1279.51\" y=\"1590.4\">index i</text>\n",
       "</g>\n",
       "<g clip-path=\"url(#clip1001)\">\n",
       "<text style=\"fill:#000000; fill-opacity:1; font-family:Arial,Helvetica Neue,Helvetica,sans-serif; font-size:66px; text-anchor:middle;\" transform=\"rotate(-90, 57.6, 743.863)\" x=\"57.6\" y=\"743.863\">singular value</text>\n",
       "</g>\n",
       "<circle clip-path=\"url(#clip1003)\" style=\"fill:#000000; stroke:none; fill-opacity:1\" cx=\"296.734\" cy=\"86.6754\" r=\"18\"/>\n",
       "<circle clip-path=\"url(#clip1003)\" style=\"fill:#009af9; stroke:none; fill-opacity:1\" cx=\"296.734\" cy=\"86.6754\" r=\"14\"/>\n",
       "<circle clip-path=\"url(#clip1003)\" style=\"fill:#000000; stroke:none; fill-opacity:1\" cx=\"951.92\" cy=\"538.394\" r=\"18\"/>\n",
       "<circle clip-path=\"url(#clip1003)\" style=\"fill:#009af9; stroke:none; fill-opacity:1\" cx=\"951.92\" cy=\"538.394\" r=\"14\"/>\n",
       "<circle clip-path=\"url(#clip1003)\" style=\"fill:#000000; stroke:none; fill-opacity:1\" cx=\"1607.11\" cy=\"1101.5\" r=\"18\"/>\n",
       "<circle clip-path=\"url(#clip1003)\" style=\"fill:#009af9; stroke:none; fill-opacity:1\" cx=\"1607.11\" cy=\"1101.5\" r=\"14\"/>\n",
       "<circle clip-path=\"url(#clip1003)\" style=\"fill:#000000; stroke:none; fill-opacity:1\" cx=\"2262.29\" cy=\"1401.05\" r=\"18\"/>\n",
       "<circle clip-path=\"url(#clip1003)\" style=\"fill:#009af9; stroke:none; fill-opacity:1\" cx=\"2262.29\" cy=\"1401.05\" r=\"14\"/>\n",
       "</svg>\n"
      ]
     },
     "execution_count": 11,
     "metadata": {},
     "output_type": "execute_result"
    }
   ],
   "source": [
    "scatter(Σ, legend = false, xaxis = \"index i\", yaxis = \"singular value\")"
   ]
  },
  {
   "cell_type": "code",
   "execution_count": null,
   "metadata": {},
   "outputs": [],
   "source": [
    "x1 = (U[:,1]'A[:,1])/(U[:,1]'*U[:,1])\n",
    "x2 = (U[:,1]'A[:,1])/(U[:,1]'*U[:,1])\n",
    "x3 = (U[:,1]'A[:,1])/(U[:,1]'*U[:,1])\n",
    "x4 = (U[:,1]'A[:,1])/(U[:,1]'*U[:,1])\n",
    "\n",
    "y1 = (U[:,1]'A[:,1])/(U[:,1]'*U[:,1])\n",
    "y2 = (U[:,1]'A[:,1])/(U[:,1]'*U[:,1])\n",
    "y3 = (U[:,1]'A[:,1])/(U[:,1]'*U[:,1])\n",
    "y4 = (U[:,1]'A[:,1])/(U[:,1]'*U[:,1])"
   ]
  },
  {
   "cell_type": "code",
   "execution_count": null,
   "metadata": {},
   "outputs": [],
   "source": [
    "countries = \n",
    "series_annotations = text.([x for x in countries], )"
   ]
  },
  {
   "cell_type": "code",
   "execution_count": null,
   "metadata": {},
   "outputs": [],
   "source": [
    "scatter([(x1, y1), (x2,y2), (x3,y3), (x4,y4)], series_annotations = text.([x for x in countries], :bottom) legend = false)"
   ]
  },
  {
   "cell_type": "code",
   "execution_count": null,
   "metadata": {},
   "outputs": [],
   "source": []
  },
  {
   "cell_type": "code",
   "execution_count": null,
   "metadata": {},
   "outputs": [],
   "source": [
    "x, y = U[]"
   ]
  },
  {
   "cell_type": "code",
   "execution_count": null,
   "metadata": {},
   "outputs": [],
   "source": []
  }
 ],
 "metadata": {
  "kernelspec": {
   "display_name": "Julia 1.0.3",
   "language": "julia",
   "name": "julia-1.0"
  },
  "language_info": {
   "file_extension": ".jl",
   "mimetype": "application/julia",
   "name": "julia",
   "version": "1.0.3"
  }
 },
 "nbformat": 4,
 "nbformat_minor": 2
}
